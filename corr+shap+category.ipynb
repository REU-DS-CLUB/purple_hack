{
 "cells": [
  {
   "cell_type": "code",
   "execution_count": 6,
   "metadata": {},
   "outputs": [],
   "source": [
    "from sklearn.metrics import  roc_auc_score, classification_report, roc_curve, auc\n",
    "from sklearn.model_selection import train_test_split\n",
    "\n",
    "\n",
    "import pandas as pd\n",
    "from fastparquet import ParquetFile\n",
    "import numpy as np\n",
    "\n",
    "import shap\n",
    "from utils import feature_drop, remove_highly_correlated_features, get_shap_feature, get_categorical_columns\n",
    "\n",
    "from catboost import CatBoostClassifier, Pool\n",
    "from xgboost import XGBClassifier\n",
    "import lightgbm as lgb\n",
    "\n",
    "import seaborn as sns\n",
    "import matplotlib.pyplot as plt\n",
    "colors = [\"#A115FE\", \"#8F00FF\", \"#4d0585\", \"#591878\", \"#6e1f78\", \"#7b469c\", \"#2c0652\",\n",
    "          \"#29AB50\", \"#22753b\", \"#ECE919\", \"#7a781d\", \"#0F91D0\", \"#0f3f75\"]\n",
    "sns.set_palette(sns.color_palette(colors))"
   ]
  },
  {
   "cell_type": "code",
   "execution_count": 7,
   "metadata": {},
   "outputs": [
    {
     "data": {
      "text/html": [
       "<div>\n",
       "<style scoped>\n",
       "    .dataframe tbody tr th:only-of-type {\n",
       "        vertical-align: middle;\n",
       "    }\n",
       "\n",
       "    .dataframe tbody tr th {\n",
       "        vertical-align: top;\n",
       "    }\n",
       "\n",
       "    .dataframe thead th {\n",
       "        text-align: right;\n",
       "    }\n",
       "</style>\n",
       "<table border=\"1\" class=\"dataframe\">\n",
       "  <thead>\n",
       "    <tr style=\"text-align: right;\">\n",
       "      <th></th>\n",
       "      <th>id</th>\n",
       "      <th>target</th>\n",
       "      <th>feature1</th>\n",
       "      <th>feature2</th>\n",
       "      <th>feature3</th>\n",
       "      <th>feature4</th>\n",
       "      <th>feature5</th>\n",
       "      <th>feature6</th>\n",
       "      <th>feature7</th>\n",
       "      <th>feature8</th>\n",
       "      <th>...</th>\n",
       "      <th>feature1067</th>\n",
       "      <th>feature1068</th>\n",
       "      <th>feature1069</th>\n",
       "      <th>feature1070</th>\n",
       "      <th>feature1071</th>\n",
       "      <th>feature1072</th>\n",
       "      <th>feature1073</th>\n",
       "      <th>feature1074</th>\n",
       "      <th>feature1075</th>\n",
       "      <th>feature1076</th>\n",
       "    </tr>\n",
       "  </thead>\n",
       "  <tbody>\n",
       "    <tr>\n",
       "      <th>0</th>\n",
       "      <td>0</td>\n",
       "      <td>0</td>\n",
       "      <td>1761</td>\n",
       "      <td>1759</td>\n",
       "      <td>85</td>\n",
       "      <td>105469</td>\n",
       "      <td>191</td>\n",
       "      <td>46</td>\n",
       "      <td>0</td>\n",
       "      <td>6</td>\n",
       "      <td>...</td>\n",
       "      <td>28913</td>\n",
       "      <td>48985</td>\n",
       "      <td>84264</td>\n",
       "      <td>12045</td>\n",
       "      <td>12107</td>\n",
       "      <td>12510</td>\n",
       "      <td>21126</td>\n",
       "      <td>28913</td>\n",
       "      <td>48985</td>\n",
       "      <td>84264</td>\n",
       "    </tr>\n",
       "    <tr>\n",
       "      <th>1</th>\n",
       "      <td>1</td>\n",
       "      <td>0</td>\n",
       "      <td>1761</td>\n",
       "      <td>1759</td>\n",
       "      <td>120</td>\n",
       "      <td>105610</td>\n",
       "      <td>144</td>\n",
       "      <td>71</td>\n",
       "      <td>0</td>\n",
       "      <td>135</td>\n",
       "      <td>...</td>\n",
       "      <td>0</td>\n",
       "      <td>0</td>\n",
       "      <td>0</td>\n",
       "      <td>0</td>\n",
       "      <td>0</td>\n",
       "      <td>0</td>\n",
       "      <td>0</td>\n",
       "      <td>0</td>\n",
       "      <td>0</td>\n",
       "      <td>0</td>\n",
       "    </tr>\n",
       "    <tr>\n",
       "      <th>2</th>\n",
       "      <td>2</td>\n",
       "      <td>0</td>\n",
       "      <td>890</td>\n",
       "      <td>1759</td>\n",
       "      <td>141</td>\n",
       "      <td>105227</td>\n",
       "      <td>191</td>\n",
       "      <td>11</td>\n",
       "      <td>0</td>\n",
       "      <td>0</td>\n",
       "      <td>...</td>\n",
       "      <td>55949</td>\n",
       "      <td>70006</td>\n",
       "      <td>113317</td>\n",
       "      <td>33735</td>\n",
       "      <td>31242</td>\n",
       "      <td>12691</td>\n",
       "      <td>48682</td>\n",
       "      <td>55949</td>\n",
       "      <td>70006</td>\n",
       "      <td>113317</td>\n",
       "    </tr>\n",
       "    <tr>\n",
       "      <th>5</th>\n",
       "      <td>5</td>\n",
       "      <td>0</td>\n",
       "      <td>1599</td>\n",
       "      <td>966</td>\n",
       "      <td>30</td>\n",
       "      <td>102441</td>\n",
       "      <td>191</td>\n",
       "      <td>8</td>\n",
       "      <td>0</td>\n",
       "      <td>0</td>\n",
       "      <td>...</td>\n",
       "      <td>0</td>\n",
       "      <td>6872</td>\n",
       "      <td>8530</td>\n",
       "      <td>0</td>\n",
       "      <td>0</td>\n",
       "      <td>0</td>\n",
       "      <td>0</td>\n",
       "      <td>0</td>\n",
       "      <td>6872</td>\n",
       "      <td>8530</td>\n",
       "    </tr>\n",
       "    <tr>\n",
       "      <th>6</th>\n",
       "      <td>6</td>\n",
       "      <td>0</td>\n",
       "      <td>1761</td>\n",
       "      <td>1759</td>\n",
       "      <td>85</td>\n",
       "      <td>104006</td>\n",
       "      <td>191</td>\n",
       "      <td>2</td>\n",
       "      <td>0</td>\n",
       "      <td>0</td>\n",
       "      <td>...</td>\n",
       "      <td>0</td>\n",
       "      <td>0</td>\n",
       "      <td>7642</td>\n",
       "      <td>0</td>\n",
       "      <td>0</td>\n",
       "      <td>0</td>\n",
       "      <td>0</td>\n",
       "      <td>0</td>\n",
       "      <td>0</td>\n",
       "      <td>7642</td>\n",
       "    </tr>\n",
       "  </tbody>\n",
       "</table>\n",
       "<p>5 rows × 988 columns</p>\n",
       "</div>"
      ],
      "text/plain": [
       "   id  target  feature1  feature2  feature3  feature4  feature5  feature6  \\\n",
       "0   0       0      1761      1759        85    105469       191        46   \n",
       "1   1       0      1761      1759       120    105610       144        71   \n",
       "2   2       0       890      1759       141    105227       191        11   \n",
       "5   5       0      1599       966        30    102441       191         8   \n",
       "6   6       0      1761      1759        85    104006       191         2   \n",
       "\n",
       "   feature7  feature8  ...  feature1067  feature1068  feature1069  \\\n",
       "0         0         6  ...        28913        48985        84264   \n",
       "1         0       135  ...            0            0            0   \n",
       "2         0         0  ...        55949        70006       113317   \n",
       "5         0         0  ...            0         6872         8530   \n",
       "6         0         0  ...            0            0         7642   \n",
       "\n",
       "   feature1070  feature1071  feature1072  feature1073  feature1074  \\\n",
       "0        12045        12107        12510        21126        28913   \n",
       "1            0            0            0            0            0   \n",
       "2        33735        31242        12691        48682        55949   \n",
       "5            0            0            0            0            0   \n",
       "6            0            0            0            0            0   \n",
       "\n",
       "   feature1075  feature1076  \n",
       "0        48985        84264  \n",
       "1            0            0  \n",
       "2        70006       113317  \n",
       "5         6872         8530  \n",
       "6            0         7642  \n",
       "\n",
       "[5 rows x 988 columns]"
      ]
     },
     "execution_count": 7,
     "metadata": {},
     "output_type": "execute_result"
    }
   ],
   "source": [
    "file_path = \"Data/train_ai_comp_final_dp.parquet\"\n",
    "pf = ParquetFile(file_path)\n",
    "df = pf.to_pandas()\n",
    "df = feature_drop(df)\n",
    "df.head()"
   ]
  },
  {
   "cell_type": "code",
   "execution_count": 8,
   "metadata": {},
   "outputs": [],
   "source": [
    "X = df.drop(columns=['target', \"id\"])\n",
    "y = df['target']\n",
    "X_train, X_temp, y_train, y_temp = train_test_split(X, y, test_size=0.1, random_state=42)\n",
    "X_val, X_test, y_val, y_test = train_test_split(X_temp, y_temp, test_size=0.5, random_state=42)"
   ]
  },
  {
   "cell_type": "code",
   "execution_count": 9,
   "metadata": {},
   "outputs": [
    {
     "data": {
      "text/html": [
       "<div>\n",
       "<style scoped>\n",
       "    .dataframe tbody tr th:only-of-type {\n",
       "        vertical-align: middle;\n",
       "    }\n",
       "\n",
       "    .dataframe tbody tr th {\n",
       "        vertical-align: top;\n",
       "    }\n",
       "\n",
       "    .dataframe thead th {\n",
       "        text-align: right;\n",
       "    }\n",
       "</style>\n",
       "<table border=\"1\" class=\"dataframe\">\n",
       "  <thead>\n",
       "    <tr style=\"text-align: right;\">\n",
       "      <th></th>\n",
       "      <th>feature1</th>\n",
       "      <th>feature2</th>\n",
       "      <th>feature3</th>\n",
       "      <th>feature4</th>\n",
       "      <th>feature5</th>\n",
       "      <th>feature6</th>\n",
       "      <th>feature7</th>\n",
       "      <th>feature8</th>\n",
       "      <th>feature9</th>\n",
       "      <th>feature10</th>\n",
       "      <th>...</th>\n",
       "      <th>feature1067</th>\n",
       "      <th>feature1068</th>\n",
       "      <th>feature1069</th>\n",
       "      <th>feature1070</th>\n",
       "      <th>feature1071</th>\n",
       "      <th>feature1072</th>\n",
       "      <th>feature1073</th>\n",
       "      <th>feature1074</th>\n",
       "      <th>feature1075</th>\n",
       "      <th>feature1076</th>\n",
       "    </tr>\n",
       "  </thead>\n",
       "  <tbody>\n",
       "    <tr>\n",
       "      <th>187083</th>\n",
       "      <td>1761</td>\n",
       "      <td>1759</td>\n",
       "      <td>117</td>\n",
       "      <td>105345</td>\n",
       "      <td>191</td>\n",
       "      <td>152</td>\n",
       "      <td>0</td>\n",
       "      <td>0</td>\n",
       "      <td>0</td>\n",
       "      <td>0</td>\n",
       "      <td>...</td>\n",
       "      <td>0</td>\n",
       "      <td>0</td>\n",
       "      <td>0</td>\n",
       "      <td>0</td>\n",
       "      <td>0</td>\n",
       "      <td>0</td>\n",
       "      <td>0</td>\n",
       "      <td>0</td>\n",
       "      <td>0</td>\n",
       "      <td>0</td>\n",
       "    </tr>\n",
       "    <tr>\n",
       "      <th>585908</th>\n",
       "      <td>1761</td>\n",
       "      <td>1759</td>\n",
       "      <td>88</td>\n",
       "      <td>74109</td>\n",
       "      <td>191</td>\n",
       "      <td>6</td>\n",
       "      <td>125</td>\n",
       "      <td>290</td>\n",
       "      <td>298</td>\n",
       "      <td>176</td>\n",
       "      <td>...</td>\n",
       "      <td>0</td>\n",
       "      <td>0</td>\n",
       "      <td>0</td>\n",
       "      <td>0</td>\n",
       "      <td>0</td>\n",
       "      <td>0</td>\n",
       "      <td>0</td>\n",
       "      <td>0</td>\n",
       "      <td>0</td>\n",
       "      <td>0</td>\n",
       "    </tr>\n",
       "    <tr>\n",
       "      <th>241239</th>\n",
       "      <td>1630</td>\n",
       "      <td>601</td>\n",
       "      <td>105</td>\n",
       "      <td>104480</td>\n",
       "      <td>191</td>\n",
       "      <td>34</td>\n",
       "      <td>0</td>\n",
       "      <td>0</td>\n",
       "      <td>0</td>\n",
       "      <td>0</td>\n",
       "      <td>...</td>\n",
       "      <td>0</td>\n",
       "      <td>0</td>\n",
       "      <td>0</td>\n",
       "      <td>0</td>\n",
       "      <td>0</td>\n",
       "      <td>0</td>\n",
       "      <td>0</td>\n",
       "      <td>0</td>\n",
       "      <td>0</td>\n",
       "      <td>0</td>\n",
       "    </tr>\n",
       "    <tr>\n",
       "      <th>175984</th>\n",
       "      <td>1639</td>\n",
       "      <td>17</td>\n",
       "      <td>86</td>\n",
       "      <td>102228</td>\n",
       "      <td>0</td>\n",
       "      <td>12</td>\n",
       "      <td>125</td>\n",
       "      <td>290</td>\n",
       "      <td>298</td>\n",
       "      <td>176</td>\n",
       "      <td>...</td>\n",
       "      <td>0</td>\n",
       "      <td>0</td>\n",
       "      <td>0</td>\n",
       "      <td>0</td>\n",
       "      <td>0</td>\n",
       "      <td>0</td>\n",
       "      <td>0</td>\n",
       "      <td>0</td>\n",
       "      <td>0</td>\n",
       "      <td>0</td>\n",
       "    </tr>\n",
       "    <tr>\n",
       "      <th>393146</th>\n",
       "      <td>1761</td>\n",
       "      <td>1759</td>\n",
       "      <td>32</td>\n",
       "      <td>82893</td>\n",
       "      <td>191</td>\n",
       "      <td>44</td>\n",
       "      <td>125</td>\n",
       "      <td>290</td>\n",
       "      <td>298</td>\n",
       "      <td>176</td>\n",
       "      <td>...</td>\n",
       "      <td>0</td>\n",
       "      <td>0</td>\n",
       "      <td>0</td>\n",
       "      <td>0</td>\n",
       "      <td>0</td>\n",
       "      <td>0</td>\n",
       "      <td>0</td>\n",
       "      <td>0</td>\n",
       "      <td>0</td>\n",
       "      <td>0</td>\n",
       "    </tr>\n",
       "  </tbody>\n",
       "</table>\n",
       "<p>5 rows × 986 columns</p>\n",
       "</div>"
      ],
      "text/plain": [
       "        feature1  feature2  feature3  feature4  feature5  feature6  feature7  \\\n",
       "187083      1761      1759       117    105345       191       152         0   \n",
       "585908      1761      1759        88     74109       191         6       125   \n",
       "241239      1630       601       105    104480       191        34         0   \n",
       "175984      1639        17        86    102228         0        12       125   \n",
       "393146      1761      1759        32     82893       191        44       125   \n",
       "\n",
       "        feature8  feature9  feature10  ...  feature1067  feature1068  \\\n",
       "187083         0         0          0  ...            0            0   \n",
       "585908       290       298        176  ...            0            0   \n",
       "241239         0         0          0  ...            0            0   \n",
       "175984       290       298        176  ...            0            0   \n",
       "393146       290       298        176  ...            0            0   \n",
       "\n",
       "        feature1069  feature1070  feature1071  feature1072  feature1073  \\\n",
       "187083            0            0            0            0            0   \n",
       "585908            0            0            0            0            0   \n",
       "241239            0            0            0            0            0   \n",
       "175984            0            0            0            0            0   \n",
       "393146            0            0            0            0            0   \n",
       "\n",
       "        feature1074  feature1075  feature1076  \n",
       "187083            0            0            0  \n",
       "585908            0            0            0  \n",
       "241239            0            0            0  \n",
       "175984            0            0            0  \n",
       "393146            0            0            0  \n",
       "\n",
       "[5 rows x 986 columns]"
      ]
     },
     "execution_count": 9,
     "metadata": {},
     "output_type": "execute_result"
    }
   ],
   "source": [
    "X_train.head()"
   ]
  },
  {
   "cell_type": "code",
   "execution_count": 10,
   "metadata": {},
   "outputs": [
    {
     "name": "stderr",
     "output_type": "stream",
     "text": [
      "c:\\Users\\Александр\\Desktop\\УЧЕБА\\ХАКАТОНЫ\\IT Purple Hack\\purple_hack\\venv\\Lib\\site-packages\\shap\\explainers\\_tree.py:448: UserWarning: LightGBM binary classifier with TreeExplainer shap values output has changed to a list of ndarray\n",
      "  warnings.warn('LightGBM binary classifier with TreeExplainer shap values output has changed to a list of ndarray')\n"
     ]
    },
    {
     "name": "stdout",
     "output_type": "stream",
     "text": [
      "0:\tlearn: 0.6777154\ttotal: 758ms\tremaining: 37.2s\n",
      "49:\tlearn: 0.2795179\ttotal: 25.1s\tremaining: 0us\n"
     ]
    }
   ],
   "source": [
    "classifiers = [\n",
    "    lgb.LGBMClassifier(n_estimators=50, random_state=42, max_depth=8, learning_rate=0.01),\n",
    "    XGBClassifier(n_estimators=50, random_state=42, max_depth=8, learning_rate=0.01),\n",
    "    CatBoostClassifier(iterations=50, learning_rate=0.01, depth=8, loss_function='Logloss', verbose=500)\n",
    "]\n",
    "shap_df  = get_shap_feature(X_train, y_train, X_val, classifiers)\n"
   ]
  },
  {
   "cell_type": "code",
   "execution_count": 11,
   "metadata": {},
   "outputs": [
    {
     "data": {
      "text/html": [
       "<div>\n",
       "<style scoped>\n",
       "    .dataframe tbody tr th:only-of-type {\n",
       "        vertical-align: middle;\n",
       "    }\n",
       "\n",
       "    .dataframe tbody tr th {\n",
       "        vertical-align: top;\n",
       "    }\n",
       "\n",
       "    .dataframe thead th {\n",
       "        text-align: right;\n",
       "    }\n",
       "</style>\n",
       "<table border=\"1\" class=\"dataframe\">\n",
       "  <thead>\n",
       "    <tr style=\"text-align: right;\">\n",
       "      <th></th>\n",
       "      <th>feature</th>\n",
       "      <th>shap_importance</th>\n",
       "    </tr>\n",
       "  </thead>\n",
       "  <tbody>\n",
       "    <tr>\n",
       "      <th>574</th>\n",
       "      <td>feature994</td>\n",
       "      <td>4.288690e-02</td>\n",
       "    </tr>\n",
       "    <tr>\n",
       "      <th>203</th>\n",
       "      <td>feature341</td>\n",
       "      <td>2.483448e-02</td>\n",
       "    </tr>\n",
       "    <tr>\n",
       "      <th>192</th>\n",
       "      <td>feature319</td>\n",
       "      <td>2.418532e-02</td>\n",
       "    </tr>\n",
       "    <tr>\n",
       "      <th>6</th>\n",
       "      <td>feature1004</td>\n",
       "      <td>2.386159e-02</td>\n",
       "    </tr>\n",
       "    <tr>\n",
       "      <th>560</th>\n",
       "      <td>feature954</td>\n",
       "      <td>1.294682e-02</td>\n",
       "    </tr>\n",
       "    <tr>\n",
       "      <th>...</th>\n",
       "      <td>...</td>\n",
       "      <td>...</td>\n",
       "    </tr>\n",
       "    <tr>\n",
       "      <th>324</th>\n",
       "      <td>feature51</td>\n",
       "      <td>3.749350e-07</td>\n",
       "    </tr>\n",
       "    <tr>\n",
       "      <th>165</th>\n",
       "      <td>feature27</td>\n",
       "      <td>2.174389e-07</td>\n",
       "    </tr>\n",
       "    <tr>\n",
       "      <th>523</th>\n",
       "      <td>feature910</td>\n",
       "      <td>2.006125e-07</td>\n",
       "    </tr>\n",
       "    <tr>\n",
       "      <th>507</th>\n",
       "      <td>feature889</td>\n",
       "      <td>1.438104e-07</td>\n",
       "    </tr>\n",
       "    <tr>\n",
       "      <th>410</th>\n",
       "      <td>feature662</td>\n",
       "      <td>8.909561e-08</td>\n",
       "    </tr>\n",
       "  </tbody>\n",
       "</table>\n",
       "<p>578 rows × 2 columns</p>\n",
       "</div>"
      ],
      "text/plain": [
       "         feature  shap_importance\n",
       "574   feature994     4.288690e-02\n",
       "203   feature341     2.483448e-02\n",
       "192   feature319     2.418532e-02\n",
       "6    feature1004     2.386159e-02\n",
       "560   feature954     1.294682e-02\n",
       "..           ...              ...\n",
       "324    feature51     3.749350e-07\n",
       "165    feature27     2.174389e-07\n",
       "523   feature910     2.006125e-07\n",
       "507   feature889     1.438104e-07\n",
       "410   feature662     8.909561e-08\n",
       "\n",
       "[578 rows x 2 columns]"
      ]
     },
     "execution_count": 11,
     "metadata": {},
     "output_type": "execute_result"
    }
   ],
   "source": [
    "shap_df.sort_values(by = \"shap_importance\", ascending = False)"
   ]
  },
  {
   "cell_type": "code",
   "execution_count": 12,
   "metadata": {},
   "outputs": [],
   "source": [
    "feature = shap_df[\"feature\"].values\n",
    "X_test, X_train, X_val = X_test[feature], X_train[feature], X_val[feature]"
   ]
  },
  {
   "cell_type": "code",
   "execution_count": 13,
   "metadata": {},
   "outputs": [
    {
     "data": {
      "text/plain": [
       "array(['feature994', 'feature341', 'feature319', 'feature1004',\n",
       "       'feature954', 'feature953', 'feature940', 'feature920',\n",
       "       'feature713', 'feature952'], dtype=object)"
      ]
     },
     "execution_count": 13,
     "metadata": {},
     "output_type": "execute_result"
    }
   ],
   "source": [
    "without_drop = shap_df.sort_values(by = \"shap_importance\", ascending = False)[\"feature\"].head(10)\n",
    "without_drop.values"
   ]
  },
  {
   "cell_type": "code",
   "execution_count": 14,
   "metadata": {},
   "outputs": [
    {
     "data": {
      "text/plain": [
       "(467653, 578)"
      ]
     },
     "execution_count": 14,
     "metadata": {},
     "output_type": "execute_result"
    }
   ],
   "source": [
    "X_train.shape"
   ]
  },
  {
   "cell_type": "code",
   "execution_count": 15,
   "metadata": {},
   "outputs": [],
   "source": [
    "columns_to_remove = remove_highly_correlated_features(X_train.drop(columns=without_drop.values), shap_df, threshold=0.92)"
   ]
  },
  {
   "cell_type": "code",
   "execution_count": 16,
   "metadata": {},
   "outputs": [],
   "source": [
    "columns_to_remove = remove_highly_correlated_features(X_train.drop(columns=without_drop.values), shap_df, threshold=0.92)"
   ]
  },
  {
   "cell_type": "code",
   "execution_count": 17,
   "metadata": {},
   "outputs": [],
   "source": [
    "X_train, X_val, X_test = X_train.drop(columns=columns_to_remove), X_val.drop(columns=columns_to_remove),  X_test.drop(columns=columns_to_remove)"
   ]
  },
  {
   "cell_type": "code",
   "execution_count": 13,
   "metadata": {},
   "outputs": [
    {
     "data": {
      "text/plain": [
       "(467653, 411)"
      ]
     },
     "execution_count": 17,
     "metadata": {},
     "output_type": "execute_result"
    }
   ],
   "source": [
    "X_train.shape"
   ]
  },
  {
   "cell_type": "code",
   "execution_count": 18,
   "metadata": {},
   "outputs": [],
   "source": [
    "category = get_categorical_columns(X_train)"
   ]
  },
  {
   "cell_type": "code",
   "execution_count": 14,
   "metadata": {},
   "outputs": [
    {
     "data": {
      "text/plain": [
       "49"
      ]
     },
     "execution_count": 14,
     "metadata": {},
     "output_type": "execute_result"
    }
   ],
   "source": [
    "len(category)"
   ]
  },
  {
   "cell_type": "code",
   "execution_count": 15,
   "metadata": {},
   "outputs": [
    {
     "data": {
      "text/plain": [
       "32"
      ]
     },
     "execution_count": 15,
     "metadata": {},
     "output_type": "execute_result"
    }
   ],
   "source": [
    "len(category)"
   ]
  },
  {
   "cell_type": "code",
   "execution_count": 16,
   "metadata": {},
   "outputs": [
    {
     "data": {
      "text/plain": [
       "True"
      ]
     },
     "execution_count": 16,
     "metadata": {},
     "output_type": "execute_result"
    }
   ],
   "source": [
    "set1 = set(category)\n",
    "set2 = set(X_train.columns)\n",
    "\n",
    "is_subset = set1.issubset(set2)\n",
    "\n",
    "is_subset"
   ]
  },
  {
   "cell_type": "code",
   "execution_count": 37,
   "metadata": {},
   "outputs": [
    {
     "name": "stderr",
     "output_type": "stream",
     "text": [
      "[I 2024-03-13 10:23:19,830] A new study created in memory with name: no-name-280158b5-a0aa-4490-9321-7984cfca81c2\n",
      "/tmp/ipykernel_138387/2637116355.py:12: FutureWarning: suggest_loguniform has been deprecated in v3.0.0. This feature will be removed in v6.0.0. See https://github.com/optuna/optuna/releases/tag/v3.0.0. Use suggest_float(..., log=True) instead.\n",
      "  'learning_rate': trial.suggest_loguniform('learning_rate', 0.001, 0.1),\n",
      "/tmp/ipykernel_138387/2637116355.py:14: FutureWarning: suggest_loguniform has been deprecated in v3.0.0. This feature will be removed in v6.0.0. See https://github.com/optuna/optuna/releases/tag/v3.0.0. Use suggest_float(..., log=True) instead.\n",
      "  'l2_leaf_reg': trial.suggest_loguniform('l2_leaf_reg', 1e-8, 100),\n",
      "/tmp/ipykernel_138387/2637116355.py:15: FutureWarning: suggest_loguniform has been deprecated in v3.0.0. This feature will be removed in v6.0.0. See https://github.com/optuna/optuna/releases/tag/v3.0.0. Use suggest_float(..., log=True) instead.\n",
      "  'random_strength': trial.suggest_loguniform('random_strength', 1e-8, 1.0),\n",
      "Warning: less than 75% gpu memory available for training. Free: 3093.625 Total: 16151.125\n",
      "Warning: less than 75% gpu memory available for training. Free: 4657.625 Total: 16151.125\n"
     ]
    },
    {
     "name": "stdout",
     "output_type": "stream",
     "text": [
      "0:\tlearn: 0.6912189\ttest: 0.6912177\tbest: 0.6912177 (0)\ttotal: 846ms\tremaining: 6m 22s\n",
      "200:\tlearn: 0.4142668\ttest: 0.4141248\tbest: 0.4141248 (200)\ttotal: 2m 23s\tremaining: 3m\n",
      "400:\tlearn: 0.2819587\ttest: 0.2817143\tbest: 0.2817143 (400)\ttotal: 4m 46s\tremaining: 37.1s\n",
      "452:\tlearn: 0.2605265\ttest: 0.2602631\tbest: 0.2602631 (452)\ttotal: 5m 23s\tremaining: 0us\n",
      "bestTest = 0.2602631404\n",
      "bestIteration = 452\n"
     ]
    },
    {
     "name": "stderr",
     "output_type": "stream",
     "text": [
      "[I 2024-03-13 10:28:51,382] Trial 0 finished with value: 0.7230019746353203 and parameters: {'iterations': 453, 'learning_rate': 0.001188866737123741, 'depth': 6, 'l2_leaf_reg': 1.7372551125428e-08, 'random_strength': 0.004702033595871019}. Best is trial 0 with value: 0.7230019746353203.\n"
     ]
    },
    {
     "name": "stdout",
     "output_type": "stream",
     "text": [
      "0 0.7230019746353203\n"
     ]
    },
    {
     "name": "stderr",
     "output_type": "stream",
     "text": [
      "/tmp/ipykernel_138387/2637116355.py:12: FutureWarning: suggest_loguniform has been deprecated in v3.0.0. This feature will be removed in v6.0.0. See https://github.com/optuna/optuna/releases/tag/v3.0.0. Use suggest_float(..., log=True) instead.\n",
      "  'learning_rate': trial.suggest_loguniform('learning_rate', 0.001, 0.1),\n",
      "/tmp/ipykernel_138387/2637116355.py:14: FutureWarning: suggest_loguniform has been deprecated in v3.0.0. This feature will be removed in v6.0.0. See https://github.com/optuna/optuna/releases/tag/v3.0.0. Use suggest_float(..., log=True) instead.\n",
      "  'l2_leaf_reg': trial.suggest_loguniform('l2_leaf_reg', 1e-8, 100),\n",
      "/tmp/ipykernel_138387/2637116355.py:15: FutureWarning: suggest_loguniform has been deprecated in v3.0.0. This feature will be removed in v6.0.0. See https://github.com/optuna/optuna/releases/tag/v3.0.0. Use suggest_float(..., log=True) instead.\n",
      "  'random_strength': trial.suggest_loguniform('random_strength', 1e-8, 1.0),\n",
      "Warning: less than 75% gpu memory available for training. Free: 3091.625 Total: 16151.125\n",
      "Warning: less than 75% gpu memory available for training. Free: 4655.625 Total: 16151.125\n"
     ]
    },
    {
     "name": "stdout",
     "output_type": "stream",
     "text": [
      "0:\tlearn: 0.6913173\ttest: 0.6913174\tbest: 0.6913174 (0)\ttotal: 904ms\tremaining: 3m 23s\n",
      "200:\tlearn: 0.4266329\ttest: 0.4268825\tbest: 0.4268825 (200)\ttotal: 3m 1s\tremaining: 22.6s\n",
      "225:\tlearn: 0.4047136\ttest: 0.4049974\tbest: 0.4049974 (225)\ttotal: 3m 23s\tremaining: 0us\n",
      "bestTest = 0.4049973909\n",
      "bestIteration = 225\n"
     ]
    },
    {
     "name": "stderr",
     "output_type": "stream",
     "text": [
      "[I 2024-03-13 10:32:22,366] Trial 1 finished with value: 0.7245160894019039 and parameters: {'iterations': 226, 'learning_rate': 0.0010965694497740656, 'depth': 9, 'l2_leaf_reg': 0.0031115892576067845, 'random_strength': 4.2410745198621446e-07}. Best is trial 1 with value: 0.7245160894019039.\n"
     ]
    },
    {
     "name": "stdout",
     "output_type": "stream",
     "text": [
      "1 0.7245160894019039\n"
     ]
    },
    {
     "name": "stderr",
     "output_type": "stream",
     "text": [
      "/tmp/ipykernel_138387/2637116355.py:12: FutureWarning: suggest_loguniform has been deprecated in v3.0.0. This feature will be removed in v6.0.0. See https://github.com/optuna/optuna/releases/tag/v3.0.0. Use suggest_float(..., log=True) instead.\n",
      "  'learning_rate': trial.suggest_loguniform('learning_rate', 0.001, 0.1),\n",
      "/tmp/ipykernel_138387/2637116355.py:14: FutureWarning: suggest_loguniform has been deprecated in v3.0.0. This feature will be removed in v6.0.0. See https://github.com/optuna/optuna/releases/tag/v3.0.0. Use suggest_float(..., log=True) instead.\n",
      "  'l2_leaf_reg': trial.suggest_loguniform('l2_leaf_reg', 1e-8, 100),\n",
      "/tmp/ipykernel_138387/2637116355.py:15: FutureWarning: suggest_loguniform has been deprecated in v3.0.0. This feature will be removed in v6.0.0. See https://github.com/optuna/optuna/releases/tag/v3.0.0. Use suggest_float(..., log=True) instead.\n",
      "  'random_strength': trial.suggest_loguniform('random_strength', 1e-8, 1.0),\n",
      "Warning: less than 75% gpu memory available for training. Free: 3091.625 Total: 16151.125\n",
      "Warning: less than 75% gpu memory available for training. Free: 4655.625 Total: 16151.125\n"
     ]
    },
    {
     "name": "stdout",
     "output_type": "stream",
     "text": [
      "0:\tlearn: 0.6710205\ttest: 0.6710497\tbest: 0.6710497 (0)\ttotal: 1s\tremaining: 6m 18s\n",
      "200:\tlearn: 0.1340440\ttest: 0.1406032\tbest: 0.1406032 (200)\ttotal: 3m 21s\tremaining: 2m 58s\n",
      "378:\tlearn: 0.1275529\ttest: 0.1383793\tbest: 0.1383793 (378)\ttotal: 6m 20s\tremaining: 0us\n",
      "bestTest = 0.1383792896\n",
      "bestIteration = 378\n"
     ]
    },
    {
     "name": "stderr",
     "output_type": "stream",
     "text": [
      "[I 2024-03-13 10:38:50,834] Trial 2 finished with value: 0.7363565456354477 and parameters: {'iterations': 379, 'learning_rate': 0.013402014590695613, 'depth': 10, 'l2_leaf_reg': 2.3031728752941413e-06, 'random_strength': 0.0036129598200933433}. Best is trial 2 with value: 0.7363565456354477.\n"
     ]
    },
    {
     "name": "stdout",
     "output_type": "stream",
     "text": [
      "2 0.7363565456354477\n"
     ]
    },
    {
     "name": "stderr",
     "output_type": "stream",
     "text": [
      "/tmp/ipykernel_138387/2637116355.py:12: FutureWarning: suggest_loguniform has been deprecated in v3.0.0. This feature will be removed in v6.0.0. See https://github.com/optuna/optuna/releases/tag/v3.0.0. Use suggest_float(..., log=True) instead.\n",
      "  'learning_rate': trial.suggest_loguniform('learning_rate', 0.001, 0.1),\n",
      "/tmp/ipykernel_138387/2637116355.py:14: FutureWarning: suggest_loguniform has been deprecated in v3.0.0. This feature will be removed in v6.0.0. See https://github.com/optuna/optuna/releases/tag/v3.0.0. Use suggest_float(..., log=True) instead.\n",
      "  'l2_leaf_reg': trial.suggest_loguniform('l2_leaf_reg', 1e-8, 100),\n",
      "/tmp/ipykernel_138387/2637116355.py:15: FutureWarning: suggest_loguniform has been deprecated in v3.0.0. This feature will be removed in v6.0.0. See https://github.com/optuna/optuna/releases/tag/v3.0.0. Use suggest_float(..., log=True) instead.\n",
      "  'random_strength': trial.suggest_loguniform('random_strength', 1e-8, 1.0),\n",
      "Warning: less than 75% gpu memory available for training. Free: 3091.625 Total: 16151.125\n",
      "Warning: less than 75% gpu memory available for training. Free: 4655.625 Total: 16151.125\n"
     ]
    },
    {
     "name": "stdout",
     "output_type": "stream",
     "text": [
      "0:\tlearn: 0.6837893\ttest: 0.6837794\tbest: 0.6837794 (0)\ttotal: 579ms\tremaining: 8m 24s\n",
      "200:\tlearn: 0.1678514\ttest: 0.1672225\tbest: 0.1672225 (200)\ttotal: 1m 56s\tremaining: 6m 28s\n",
      "400:\tlearn: 0.1437110\ttest: 0.1432261\tbest: 0.1432261 (400)\ttotal: 3m 52s\tremaining: 4m 32s\n",
      "600:\tlearn: 0.1407268\ttest: 0.1404900\tbest: 0.1404900 (600)\ttotal: 5m 47s\tremaining: 2m 36s\n",
      "800:\tlearn: 0.1397553\ttest: 0.1397536\tbest: 0.1397536 (800)\ttotal: 7m 43s\tremaining: 41.1s\n",
      "871:\tlearn: 0.1395168\ttest: 0.1395809\tbest: 0.1395809 (871)\ttotal: 8m 25s\tremaining: 0us\n",
      "bestTest = 0.1395808918\n",
      "bestIteration = 871\n"
     ]
    },
    {
     "name": "stderr",
     "output_type": "stream",
     "text": [
      "[I 2024-03-13 10:47:22,995] Trial 3 finished with value: 0.7303252116176416 and parameters: {'iterations': 872, 'learning_rate': 0.005817475685839636, 'depth': 4, 'l2_leaf_reg': 0.006158698282324313, 'random_strength': 1.8531210147459814e-05}. Best is trial 2 with value: 0.7363565456354477.\n"
     ]
    },
    {
     "name": "stdout",
     "output_type": "stream",
     "text": [
      "3 0.7303252116176416\n"
     ]
    },
    {
     "name": "stderr",
     "output_type": "stream",
     "text": [
      "/tmp/ipykernel_138387/2637116355.py:12: FutureWarning: suggest_loguniform has been deprecated in v3.0.0. This feature will be removed in v6.0.0. See https://github.com/optuna/optuna/releases/tag/v3.0.0. Use suggest_float(..., log=True) instead.\n",
      "  'learning_rate': trial.suggest_loguniform('learning_rate', 0.001, 0.1),\n",
      "/tmp/ipykernel_138387/2637116355.py:14: FutureWarning: suggest_loguniform has been deprecated in v3.0.0. This feature will be removed in v6.0.0. See https://github.com/optuna/optuna/releases/tag/v3.0.0. Use suggest_float(..., log=True) instead.\n",
      "  'l2_leaf_reg': trial.suggest_loguniform('l2_leaf_reg', 1e-8, 100),\n",
      "/tmp/ipykernel_138387/2637116355.py:15: FutureWarning: suggest_loguniform has been deprecated in v3.0.0. This feature will be removed in v6.0.0. See https://github.com/optuna/optuna/releases/tag/v3.0.0. Use suggest_float(..., log=True) instead.\n",
      "  'random_strength': trial.suggest_loguniform('random_strength', 1e-8, 1.0),\n",
      "Warning: less than 75% gpu memory available for training. Free: 3091.625 Total: 16151.125\n",
      "Warning: less than 75% gpu memory available for training. Free: 4655.625 Total: 16151.125\n"
     ]
    },
    {
     "name": "stdout",
     "output_type": "stream",
     "text": [
      "0:\tlearn: 0.6080772\ttest: 0.6079834\tbest: 0.6079834 (0)\ttotal: 575ms\tremaining: 7m 16s\n",
      "200:\tlearn: 0.1378135\ttest: 0.1386962\tbest: 0.1386962 (200)\ttotal: 1m 55s\tremaining: 5m 22s\n",
      "400:\tlearn: 0.1361100\ttest: 0.1382206\tbest: 0.1382180 (396)\ttotal: 3m 51s\tremaining: 3m 28s\n",
      "600:\tlearn: 0.1346991\ttest: 0.1379453\tbest: 0.1379393 (587)\ttotal: 5m 47s\tremaining: 1m 32s\n",
      "760:\tlearn: 0.1337199\ttest: 0.1379068\tbest: 0.1378993 (674)\ttotal: 7m 20s\tremaining: 0us\n",
      "bestTest = 0.1378992903\n",
      "bestIteration = 674\n",
      "Shrink model to first 675 iterations.\n"
     ]
    },
    {
     "name": "stderr",
     "output_type": "stream",
     "text": [
      "[I 2024-03-13 10:54:50,443] Trial 4 finished with value: 0.7423263991262239 and parameters: {'iterations': 761, 'learning_rate': 0.055494225764788685, 'depth': 4, 'l2_leaf_reg': 0.0007315946220151431, 'random_strength': 3.6398936407704123e-07}. Best is trial 4 with value: 0.7423263991262239.\n"
     ]
    },
    {
     "name": "stdout",
     "output_type": "stream",
     "text": [
      "4 0.7423263991262239\n"
     ]
    },
    {
     "name": "stderr",
     "output_type": "stream",
     "text": [
      "/tmp/ipykernel_138387/2637116355.py:12: FutureWarning: suggest_loguniform has been deprecated in v3.0.0. This feature will be removed in v6.0.0. See https://github.com/optuna/optuna/releases/tag/v3.0.0. Use suggest_float(..., log=True) instead.\n",
      "  'learning_rate': trial.suggest_loguniform('learning_rate', 0.001, 0.1),\n",
      "/tmp/ipykernel_138387/2637116355.py:14: FutureWarning: suggest_loguniform has been deprecated in v3.0.0. This feature will be removed in v6.0.0. See https://github.com/optuna/optuna/releases/tag/v3.0.0. Use suggest_float(..., log=True) instead.\n",
      "  'l2_leaf_reg': trial.suggest_loguniform('l2_leaf_reg', 1e-8, 100),\n",
      "/tmp/ipykernel_138387/2637116355.py:15: FutureWarning: suggest_loguniform has been deprecated in v3.0.0. This feature will be removed in v6.0.0. See https://github.com/optuna/optuna/releases/tag/v3.0.0. Use suggest_float(..., log=True) instead.\n",
      "  'random_strength': trial.suggest_loguniform('random_strength', 1e-8, 1.0),\n",
      "Warning: less than 75% gpu memory available for training. Free: 3091.625 Total: 16151.125\n",
      "Warning: less than 75% gpu memory available for training. Free: 4655.625 Total: 16151.125\n"
     ]
    },
    {
     "name": "stdout",
     "output_type": "stream",
     "text": [
      "0:\tlearn: 0.6911188\ttest: 0.6911223\tbest: 0.6911223 (0)\ttotal: 1.01s\tremaining: 11m 27s\n",
      "200:\tlearn: 0.4064417\ttest: 0.4072315\tbest: 0.4072315 (200)\ttotal: 3m 21s\tremaining: 7m 58s\n",
      "400:\tlearn: 0.2732260\ttest: 0.2746792\tbest: 0.2746792 (400)\ttotal: 6m 41s\tremaining: 4m 38s\n",
      "600:\tlearn: 0.2083935\ttest: 0.2104886\tbest: 0.2104886 (600)\ttotal: 10m 2s\tremaining: 1m 18s\n",
      "678:\tlearn: 0.1930174\ttest: 0.1953893\tbest: 0.1953893 (678)\ttotal: 11m 20s\tremaining: 0us\n",
      "bestTest = 0.1953893049\n",
      "bestIteration = 678\n"
     ]
    },
    {
     "name": "stderr",
     "output_type": "stream",
     "text": [
      "[I 2024-03-13 11:06:19,030] Trial 5 finished with value: 0.7246700921422747 and parameters: {'iterations': 679, 'learning_rate': 0.0012107843025438729, 'depth': 10, 'l2_leaf_reg': 8.20828176880269e-08, 'random_strength': 7.427815378477136e-06}. Best is trial 4 with value: 0.7423263991262239.\n"
     ]
    },
    {
     "name": "stdout",
     "output_type": "stream",
     "text": [
      "5 0.7246700921422747\n"
     ]
    },
    {
     "name": "stderr",
     "output_type": "stream",
     "text": [
      "/tmp/ipykernel_138387/2637116355.py:12: FutureWarning: suggest_loguniform has been deprecated in v3.0.0. This feature will be removed in v6.0.0. See https://github.com/optuna/optuna/releases/tag/v3.0.0. Use suggest_float(..., log=True) instead.\n",
      "  'learning_rate': trial.suggest_loguniform('learning_rate', 0.001, 0.1),\n",
      "/tmp/ipykernel_138387/2637116355.py:14: FutureWarning: suggest_loguniform has been deprecated in v3.0.0. This feature will be removed in v6.0.0. See https://github.com/optuna/optuna/releases/tag/v3.0.0. Use suggest_float(..., log=True) instead.\n",
      "  'l2_leaf_reg': trial.suggest_loguniform('l2_leaf_reg', 1e-8, 100),\n",
      "/tmp/ipykernel_138387/2637116355.py:15: FutureWarning: suggest_loguniform has been deprecated in v3.0.0. This feature will be removed in v6.0.0. See https://github.com/optuna/optuna/releases/tag/v3.0.0. Use suggest_float(..., log=True) instead.\n",
      "  'random_strength': trial.suggest_loguniform('random_strength', 1e-8, 1.0),\n",
      "Warning: less than 75% gpu memory available for training. Free: 3091.625 Total: 16151.125\n",
      "Warning: less than 75% gpu memory available for training. Free: 4655.625 Total: 16151.125\n"
     ]
    },
    {
     "name": "stdout",
     "output_type": "stream",
     "text": [
      "0:\tlearn: 0.6613870\ttest: 0.6613847\tbest: 0.6613847 (0)\ttotal: 913ms\tremaining: 6m 44s\n",
      "200:\tlearn: 0.1366806\ttest: 0.1387633\tbest: 0.1387633 (200)\ttotal: 3m\tremaining: 3m 38s\n",
      "400:\tlearn: 0.1337730\ttest: 0.1379173\tbest: 0.1379170 (396)\ttotal: 6m\tremaining: 38.7s\n",
      "443:\tlearn: 0.1333307\ttest: 0.1378169\tbest: 0.1378167 (442)\ttotal: 6m 39s\tremaining: 0us\n",
      "bestTest = 0.1378167469\n",
      "bestIteration = 442\n",
      "Shrink model to first 443 iterations.\n"
     ]
    },
    {
     "name": "stderr",
     "output_type": "stream",
     "text": [
      "[I 2024-03-13 11:13:05,794] Trial 6 finished with value: 0.7402659020639901 and parameters: {'iterations': 444, 'learning_rate': 0.01958308777412677, 'depth': 9, 'l2_leaf_reg': 46.11514026309692, 'random_strength': 1.638933248264611e-06}. Best is trial 4 with value: 0.7423263991262239.\n"
     ]
    },
    {
     "name": "stdout",
     "output_type": "stream",
     "text": [
      "6 0.7402659020639901\n"
     ]
    },
    {
     "name": "stderr",
     "output_type": "stream",
     "text": [
      "/tmp/ipykernel_138387/2637116355.py:12: FutureWarning: suggest_loguniform has been deprecated in v3.0.0. This feature will be removed in v6.0.0. See https://github.com/optuna/optuna/releases/tag/v3.0.0. Use suggest_float(..., log=True) instead.\n",
      "  'learning_rate': trial.suggest_loguniform('learning_rate', 0.001, 0.1),\n",
      "/tmp/ipykernel_138387/2637116355.py:14: FutureWarning: suggest_loguniform has been deprecated in v3.0.0. This feature will be removed in v6.0.0. See https://github.com/optuna/optuna/releases/tag/v3.0.0. Use suggest_float(..., log=True) instead.\n",
      "  'l2_leaf_reg': trial.suggest_loguniform('l2_leaf_reg', 1e-8, 100),\n",
      "/tmp/ipykernel_138387/2637116355.py:15: FutureWarning: suggest_loguniform has been deprecated in v3.0.0. This feature will be removed in v6.0.0. See https://github.com/optuna/optuna/releases/tag/v3.0.0. Use suggest_float(..., log=True) instead.\n",
      "  'random_strength': trial.suggest_loguniform('random_strength', 1e-8, 1.0),\n",
      "Warning: less than 75% gpu memory available for training. Free: 3091.625 Total: 16151.125\n",
      "Warning: less than 75% gpu memory available for training. Free: 4655.625 Total: 16151.125\n"
     ]
    },
    {
     "name": "stdout",
     "output_type": "stream",
     "text": [
      "0:\tlearn: 0.6507566\ttest: 0.6507435\tbest: 0.6507435 (0)\ttotal: 836ms\tremaining: 13m 51s\n",
      "200:\tlearn: 0.1339816\ttest: 0.1384984\tbest: 0.1384984 (200)\ttotal: 2m 47s\tremaining: 11m\n",
      "400:\tlearn: 0.1294126\ttest: 0.1377894\tbest: 0.1377894 (400)\ttotal: 5m 33s\tremaining: 8m 14s\n",
      "600:\tlearn: 0.1257678\ttest: 0.1375499\tbest: 0.1375499 (600)\ttotal: 8m 22s\tremaining: 5m 30s\n",
      "800:\tlearn: 0.1224801\ttest: 0.1373895\tbest: 0.1373895 (800)\ttotal: 11m 11s\tremaining: 2m 43s\n",
      "995:\tlearn: 0.1193594\ttest: 0.1373782\tbest: 0.1373109 (966)\ttotal: 13m 56s\tremaining: 0us\n",
      "bestTest = 0.137310887\n",
      "bestIteration = 966\n",
      "Shrink model to first 967 iterations.\n"
     ]
    },
    {
     "name": "stderr",
     "output_type": "stream",
     "text": [
      "[I 2024-03-13 11:27:10,521] Trial 7 finished with value: 0.7450724239976397 and parameters: {'iterations': 996, 'learning_rate': 0.026256714844353043, 'depth': 8, 'l2_leaf_reg': 1.089803384786932e-07, 'random_strength': 1.4529614210942658e-08}. Best is trial 7 with value: 0.7450724239976397.\n"
     ]
    },
    {
     "name": "stdout",
     "output_type": "stream",
     "text": [
      "7 0.7450724239976397\n"
     ]
    },
    {
     "name": "stderr",
     "output_type": "stream",
     "text": [
      "/tmp/ipykernel_138387/2637116355.py:12: FutureWarning: suggest_loguniform has been deprecated in v3.0.0. This feature will be removed in v6.0.0. See https://github.com/optuna/optuna/releases/tag/v3.0.0. Use suggest_float(..., log=True) instead.\n",
      "  'learning_rate': trial.suggest_loguniform('learning_rate', 0.001, 0.1),\n",
      "/tmp/ipykernel_138387/2637116355.py:14: FutureWarning: suggest_loguniform has been deprecated in v3.0.0. This feature will be removed in v6.0.0. See https://github.com/optuna/optuna/releases/tag/v3.0.0. Use suggest_float(..., log=True) instead.\n",
      "  'l2_leaf_reg': trial.suggest_loguniform('l2_leaf_reg', 1e-8, 100),\n",
      "/tmp/ipykernel_138387/2637116355.py:15: FutureWarning: suggest_loguniform has been deprecated in v3.0.0. This feature will be removed in v6.0.0. See https://github.com/optuna/optuna/releases/tag/v3.0.0. Use suggest_float(..., log=True) instead.\n",
      "  'random_strength': trial.suggest_loguniform('random_strength', 1e-8, 1.0),\n",
      "Warning: less than 75% gpu memory available for training. Free: 3091.625 Total: 16151.125\n",
      "Warning: less than 75% gpu memory available for training. Free: 4655.625 Total: 16151.125\n"
     ]
    },
    {
     "name": "stdout",
     "output_type": "stream",
     "text": [
      "0:\tlearn: 0.6702317\ttest: 0.6702157\tbest: 0.6702157 (0)\ttotal: 720ms\tremaining: 4m 21s\n",
      "200:\tlearn: 0.1401898\ttest: 0.1405812\tbest: 0.1405812 (200)\ttotal: 2m 24s\tremaining: 1m 58s\n",
      "364:\tlearn: 0.1375330\ttest: 0.1388493\tbest: 0.1388493 (364)\ttotal: 4m 23s\tremaining: 0us\n",
      "bestTest = 0.1388492655\n",
      "bestIteration = 364\n"
     ]
    },
    {
     "name": "stderr",
     "output_type": "stream",
     "text": [
      "[I 2024-03-13 11:31:42,059] Trial 8 finished with value: 0.7342877302763812 and parameters: {'iterations': 365, 'learning_rate': 0.014307501935720317, 'depth': 6, 'l2_leaf_reg': 4.876890857536299e-06, 'random_strength': 3.399105245515705e-05}. Best is trial 7 with value: 0.7450724239976397.\n"
     ]
    },
    {
     "name": "stdout",
     "output_type": "stream",
     "text": [
      "8 0.7342877302763812\n"
     ]
    },
    {
     "name": "stderr",
     "output_type": "stream",
     "text": [
      "/tmp/ipykernel_138387/2637116355.py:12: FutureWarning: suggest_loguniform has been deprecated in v3.0.0. This feature will be removed in v6.0.0. See https://github.com/optuna/optuna/releases/tag/v3.0.0. Use suggest_float(..., log=True) instead.\n",
      "  'learning_rate': trial.suggest_loguniform('learning_rate', 0.001, 0.1),\n",
      "/tmp/ipykernel_138387/2637116355.py:14: FutureWarning: suggest_loguniform has been deprecated in v3.0.0. This feature will be removed in v6.0.0. See https://github.com/optuna/optuna/releases/tag/v3.0.0. Use suggest_float(..., log=True) instead.\n",
      "  'l2_leaf_reg': trial.suggest_loguniform('l2_leaf_reg', 1e-8, 100),\n",
      "/tmp/ipykernel_138387/2637116355.py:15: FutureWarning: suggest_loguniform has been deprecated in v3.0.0. This feature will be removed in v6.0.0. See https://github.com/optuna/optuna/releases/tag/v3.0.0. Use suggest_float(..., log=True) instead.\n",
      "  'random_strength': trial.suggest_loguniform('random_strength', 1e-8, 1.0),\n",
      "Warning: less than 75% gpu memory available for training. Free: 3091.625 Total: 16151.125\n",
      "Warning: less than 75% gpu memory available for training. Free: 4655.625 Total: 16151.125\n"
     ]
    },
    {
     "name": "stdout",
     "output_type": "stream",
     "text": [
      "0:\tlearn: 0.6904005\ttest: 0.6903995\tbest: 0.6903995 (0)\ttotal: 842ms\tremaining: 13m 6s\n",
      "200:\tlearn: 0.3477919\ttest: 0.3479363\tbest: 0.3479363 (200)\ttotal: 2m 49s\tremaining: 10m 19s\n",
      "400:\tlearn: 0.2244646\ttest: 0.2248238\tbest: 0.2248238 (400)\ttotal: 5m 38s\tremaining: 7m 30s\n",
      "600:\tlearn: 0.1767637\ttest: 0.1774057\tbest: 0.1774057 (600)\ttotal: 8m 28s\tremaining: 4m 42s\n",
      "800:\tlearn: 0.1565206\ttest: 0.1574893\tbest: 0.1574893 (800)\ttotal: 11m 18s\tremaining: 1m 53s\n",
      "934:\tlearn: 0.1496111\ttest: 0.1508048\tbest: 0.1508048 (934)\ttotal: 13m 12s\tremaining: 0us\n",
      "bestTest = 0.1508047576\n",
      "bestIteration = 934\n"
     ]
    },
    {
     "name": "stderr",
     "output_type": "stream",
     "text": [
      "[I 2024-03-13 11:45:03,725] Trial 9 finished with value: 0.726437037432992 and parameters: {'iterations': 935, 'learning_rate': 0.0016606914944349506, 'depth': 8, 'l2_leaf_reg': 2.222015415020985e-07, 'random_strength': 2.5775052990773255e-07}. Best is trial 7 with value: 0.7450724239976397.\n"
     ]
    },
    {
     "name": "stdout",
     "output_type": "stream",
     "text": [
      "9 0.726437037432992\n"
     ]
    },
    {
     "name": "stderr",
     "output_type": "stream",
     "text": [
      "/tmp/ipykernel_138387/2637116355.py:12: FutureWarning: suggest_loguniform has been deprecated in v3.0.0. This feature will be removed in v6.0.0. See https://github.com/optuna/optuna/releases/tag/v3.0.0. Use suggest_float(..., log=True) instead.\n",
      "  'learning_rate': trial.suggest_loguniform('learning_rate', 0.001, 0.1),\n",
      "/tmp/ipykernel_138387/2637116355.py:14: FutureWarning: suggest_loguniform has been deprecated in v3.0.0. This feature will be removed in v6.0.0. See https://github.com/optuna/optuna/releases/tag/v3.0.0. Use suggest_float(..., log=True) instead.\n",
      "  'l2_leaf_reg': trial.suggest_loguniform('l2_leaf_reg', 1e-8, 100),\n",
      "/tmp/ipykernel_138387/2637116355.py:15: FutureWarning: suggest_loguniform has been deprecated in v3.0.0. This feature will be removed in v6.0.0. See https://github.com/optuna/optuna/releases/tag/v3.0.0. Use suggest_float(..., log=True) instead.\n",
      "  'random_strength': trial.suggest_loguniform('random_strength', 1e-8, 1.0),\n",
      "Warning: less than 75% gpu memory available for training. Free: 3091.625 Total: 16151.125\n",
      "Warning: less than 75% gpu memory available for training. Free: 4655.625 Total: 16151.125\n"
     ]
    },
    {
     "name": "stdout",
     "output_type": "stream",
     "text": [
      "0:\tlearn: 0.5663161\ttest: 0.5661734\tbest: 0.5661734 (0)\ttotal: 377ms\tremaining: 6m 14s\n",
      "200:\tlearn: 0.1329296\ttest: 0.1375903\tbest: 0.1375903 (200)\ttotal: 2m 37s\tremaining: 10m 18s\n",
      "400:\tlearn: 0.1287042\ttest: 0.1372424\tbest: 0.1372424 (400)\ttotal: 5m 11s\tremaining: 7m 39s\n",
      "600:\tlearn: 0.1250058\ttest: 0.1372255\tbest: 0.1371765 (489)\ttotal: 7m 45s\tremaining: 5m 3s\n",
      "bestTest = 0.1371765348\n",
      "bestIteration = 489\n",
      "Shrink model to first 490 iterations.\n"
     ]
    },
    {
     "name": "stderr",
     "output_type": "stream",
     "text": [
      "[I 2024-03-13 11:55:22,373] Trial 10 finished with value: 0.747001359732817 and parameters: {'iterations': 993, 'learning_rate': 0.08923160316241886, 'depth': 7, 'l2_leaf_reg': 4.218357753286806, 'random_strength': 0.908377453233222}. Best is trial 10 with value: 0.747001359732817.\n"
     ]
    },
    {
     "name": "stdout",
     "output_type": "stream",
     "text": [
      "10 0.747001359732817\n"
     ]
    },
    {
     "name": "stderr",
     "output_type": "stream",
     "text": [
      "/tmp/ipykernel_138387/2637116355.py:12: FutureWarning: suggest_loguniform has been deprecated in v3.0.0. This feature will be removed in v6.0.0. See https://github.com/optuna/optuna/releases/tag/v3.0.0. Use suggest_float(..., log=True) instead.\n",
      "  'learning_rate': trial.suggest_loguniform('learning_rate', 0.001, 0.1),\n",
      "/tmp/ipykernel_138387/2637116355.py:14: FutureWarning: suggest_loguniform has been deprecated in v3.0.0. This feature will be removed in v6.0.0. See https://github.com/optuna/optuna/releases/tag/v3.0.0. Use suggest_float(..., log=True) instead.\n",
      "  'l2_leaf_reg': trial.suggest_loguniform('l2_leaf_reg', 1e-8, 100),\n",
      "/tmp/ipykernel_138387/2637116355.py:15: FutureWarning: suggest_loguniform has been deprecated in v3.0.0. This feature will be removed in v6.0.0. See https://github.com/optuna/optuna/releases/tag/v3.0.0. Use suggest_float(..., log=True) instead.\n",
      "  'random_strength': trial.suggest_loguniform('random_strength', 1e-8, 1.0),\n",
      "Warning: less than 75% gpu memory available for training. Free: 3091.625 Total: 16151.125\n",
      "Warning: less than 75% gpu memory available for training. Free: 4655.625 Total: 16151.125\n"
     ]
    },
    {
     "name": "stdout",
     "output_type": "stream",
     "text": [
      "0:\tlearn: 0.5752573\ttest: 0.5751257\tbest: 0.5751257 (0)\ttotal: 349ms\tremaining: 5m 37s\n",
      "200:\tlearn: 0.1333496\ttest: 0.1375475\tbest: 0.1375475 (200)\ttotal: 2m 33s\tremaining: 9m 45s\n",
      "400:\tlearn: 0.1293534\ttest: 0.1373148\tbest: 0.1373139 (398)\ttotal: 5m 7s\tremaining: 7m 13s\n",
      "600:\tlearn: 0.1258443\ttest: 0.1371672\tbest: 0.1371437 (586)\ttotal: 7m 41s\tremaining: 4m 40s\n",
      "800:\tlearn: 0.1228260\ttest: 0.1370818\tbest: 0.1370592 (785)\ttotal: 10m 15s\tremaining: 2m 6s\n",
      "965:\tlearn: 0.1202165\ttest: 0.1370752\tbest: 0.1370297 (873)\ttotal: 12m 22s\tremaining: 0us\n",
      "bestTest = 0.1370296783\n",
      "bestIteration = 873\n",
      "Shrink model to first 874 iterations.\n"
     ]
    },
    {
     "name": "stderr",
     "output_type": "stream",
     "text": [
      "[I 2024-03-13 12:07:52,264] Trial 11 finished with value: 0.7490370331693179 and parameters: {'iterations': 966, 'learning_rate': 0.08239801723593801, 'depth': 7, 'l2_leaf_reg': 4.121297895182485, 'random_strength': 0.8202344260693056}. Best is trial 11 with value: 0.7490370331693179.\n"
     ]
    },
    {
     "name": "stdout",
     "output_type": "stream",
     "text": [
      "11 0.7490370331693179\n"
     ]
    },
    {
     "name": "stderr",
     "output_type": "stream",
     "text": [
      "/tmp/ipykernel_138387/2637116355.py:12: FutureWarning: suggest_loguniform has been deprecated in v3.0.0. This feature will be removed in v6.0.0. See https://github.com/optuna/optuna/releases/tag/v3.0.0. Use suggest_float(..., log=True) instead.\n",
      "  'learning_rate': trial.suggest_loguniform('learning_rate', 0.001, 0.1),\n",
      "/tmp/ipykernel_138387/2637116355.py:14: FutureWarning: suggest_loguniform has been deprecated in v3.0.0. This feature will be removed in v6.0.0. See https://github.com/optuna/optuna/releases/tag/v3.0.0. Use suggest_float(..., log=True) instead.\n",
      "  'l2_leaf_reg': trial.suggest_loguniform('l2_leaf_reg', 1e-8, 100),\n",
      "/tmp/ipykernel_138387/2637116355.py:15: FutureWarning: suggest_loguniform has been deprecated in v3.0.0. This feature will be removed in v6.0.0. See https://github.com/optuna/optuna/releases/tag/v3.0.0. Use suggest_float(..., log=True) instead.\n",
      "  'random_strength': trial.suggest_loguniform('random_strength', 1e-8, 1.0),\n",
      "Warning: less than 75% gpu memory available for training. Free: 3091.625 Total: 16151.125\n",
      "Warning: less than 75% gpu memory available for training. Free: 4655.625 Total: 16151.125\n"
     ]
    },
    {
     "name": "stdout",
     "output_type": "stream",
     "text": [
      "0:\tlearn: 0.5593159\ttest: 0.5591642\tbest: 0.5591642 (0)\ttotal: 341ms\tremaining: 4m 39s\n",
      "200:\tlearn: 0.1350239\ttest: 0.1376508\tbest: 0.1376494 (197)\ttotal: 2m 22s\tremaining: 7m 19s\n",
      "400:\tlearn: 0.1329804\ttest: 0.1373467\tbest: 0.1373438 (382)\ttotal: 4m 44s\tremaining: 4m 58s\n",
      "600:\tlearn: 0.1313258\ttest: 0.1372065\tbest: 0.1372056 (599)\ttotal: 7m 6s\tremaining: 2m 36s\n",
      "800:\tlearn: 0.1300083\ttest: 0.1371562\tbest: 0.1371480 (753)\ttotal: 9m 28s\tremaining: 14.9s\n",
      "821:\tlearn: 0.1298836\ttest: 0.1371492\tbest: 0.1371465 (815)\ttotal: 9m 43s\tremaining: 0us\n",
      "bestTest = 0.137146502\n",
      "bestIteration = 815\n",
      "Shrink model to first 816 iterations.\n"
     ]
    },
    {
     "name": "stderr",
     "output_type": "stream",
     "text": [
      "[I 2024-03-13 12:17:42,664] Trial 12 finished with value: 0.7470797102130964 and parameters: {'iterations': 822, 'learning_rate': 0.09465160782792151, 'depth': 6, 'l2_leaf_reg': 58.73931247225134, 'random_strength': 0.7333719197709208}. Best is trial 11 with value: 0.7490370331693179.\n"
     ]
    },
    {
     "name": "stdout",
     "output_type": "stream",
     "text": [
      "12 0.7470797102130964\n"
     ]
    },
    {
     "name": "stderr",
     "output_type": "stream",
     "text": [
      "/tmp/ipykernel_138387/2637116355.py:12: FutureWarning: suggest_loguniform has been deprecated in v3.0.0. This feature will be removed in v6.0.0. See https://github.com/optuna/optuna/releases/tag/v3.0.0. Use suggest_float(..., log=True) instead.\n",
      "  'learning_rate': trial.suggest_loguniform('learning_rate', 0.001, 0.1),\n",
      "/tmp/ipykernel_138387/2637116355.py:14: FutureWarning: suggest_loguniform has been deprecated in v3.0.0. This feature will be removed in v6.0.0. See https://github.com/optuna/optuna/releases/tag/v3.0.0. Use suggest_float(..., log=True) instead.\n",
      "  'l2_leaf_reg': trial.suggest_loguniform('l2_leaf_reg', 1e-8, 100),\n",
      "/tmp/ipykernel_138387/2637116355.py:15: FutureWarning: suggest_loguniform has been deprecated in v3.0.0. This feature will be removed in v6.0.0. See https://github.com/optuna/optuna/releases/tag/v3.0.0. Use suggest_float(..., log=True) instead.\n",
      "  'random_strength': trial.suggest_loguniform('random_strength', 1e-8, 1.0),\n",
      "Warning: less than 75% gpu memory available for training. Free: 3091.625 Total: 16151.125\n",
      "Warning: less than 75% gpu memory available for training. Free: 4655.625 Total: 16151.125\n"
     ]
    },
    {
     "name": "stdout",
     "output_type": "stream",
     "text": [
      "0:\tlearn: 0.6238421\ttest: 0.6237679\tbest: 0.6237679 (0)\ttotal: 345ms\tremaining: 4m 39s\n",
      "200:\tlearn: 0.1364742\ttest: 0.1383201\tbest: 0.1383201 (200)\ttotal: 2m 21s\tremaining: 7m 10s\n",
      "400:\tlearn: 0.1339692\ttest: 0.1377864\tbest: 0.1377825 (398)\ttotal: 4m 44s\tremaining: 4m 49s\n",
      "600:\tlearn: 0.1318166\ttest: 0.1375449\tbest: 0.1375365 (595)\ttotal: 7m 12s\tremaining: 2m 30s\n",
      "800:\tlearn: 0.1299577\ttest: 0.1374057\tbest: 0.1373977 (792)\ttotal: 9m 45s\tremaining: 6.58s\n",
      "809:\tlearn: 0.1298790\ttest: 0.1374008\tbest: 0.1373977 (792)\ttotal: 9m 52s\tremaining: 0us\n",
      "bestTest = 0.1373976528\n",
      "bestIteration = 792\n",
      "Shrink model to first 793 iterations.\n"
     ]
    },
    {
     "name": "stderr",
     "output_type": "stream",
     "text": [
      "[I 2024-03-13 12:27:42,554] Trial 13 finished with value: 0.7445285211475683 and parameters: {'iterations': 810, 'learning_rate': 0.04683875535719443, 'depth': 6, 'l2_leaf_reg': 0.3703350044200323, 'random_strength': 0.5687431080906225}. Best is trial 11 with value: 0.7490370331693179.\n"
     ]
    },
    {
     "name": "stdout",
     "output_type": "stream",
     "text": [
      "13 0.7445285211475683\n"
     ]
    },
    {
     "name": "stderr",
     "output_type": "stream",
     "text": [
      "/tmp/ipykernel_138387/2637116355.py:12: FutureWarning: suggest_loguniform has been deprecated in v3.0.0. This feature will be removed in v6.0.0. See https://github.com/optuna/optuna/releases/tag/v3.0.0. Use suggest_float(..., log=True) instead.\n",
      "  'learning_rate': trial.suggest_loguniform('learning_rate', 0.001, 0.1),\n",
      "/tmp/ipykernel_138387/2637116355.py:14: FutureWarning: suggest_loguniform has been deprecated in v3.0.0. This feature will be removed in v6.0.0. See https://github.com/optuna/optuna/releases/tag/v3.0.0. Use suggest_float(..., log=True) instead.\n",
      "  'l2_leaf_reg': trial.suggest_loguniform('l2_leaf_reg', 1e-8, 100),\n",
      "/tmp/ipykernel_138387/2637116355.py:15: FutureWarning: suggest_loguniform has been deprecated in v3.0.0. This feature will be removed in v6.0.0. See https://github.com/optuna/optuna/releases/tag/v3.0.0. Use suggest_float(..., log=True) instead.\n",
      "  'random_strength': trial.suggest_loguniform('random_strength', 1e-8, 1.0),\n",
      "Warning: less than 75% gpu memory available for training. Free: 3091.625 Total: 16151.125\n",
      "Warning: less than 75% gpu memory available for training. Free: 4655.625 Total: 16151.125\n"
     ]
    },
    {
     "name": "stdout",
     "output_type": "stream",
     "text": [
      "0:\tlearn: 0.5609781\ttest: 0.5608429\tbest: 0.5608429 (0)\ttotal: 744ms\tremaining: 7m 26s\n",
      "200:\tlearn: 0.1362886\ttest: 0.1379179\tbest: 0.1379179 (200)\ttotal: 2m 18s\tremaining: 4m 35s\n",
      "400:\tlearn: 0.1346503\ttest: 0.1374553\tbest: 0.1374553 (400)\ttotal: 4m 35s\tremaining: 2m 17s\n",
      "600:\tlearn: 0.1334913\ttest: 0.1372803\tbest: 0.1372793 (599)\ttotal: 6m 53s\tremaining: 0us\n",
      "bestTest = 0.1372792629\n",
      "bestIteration = 599\n",
      "Shrink model to first 600 iterations.\n"
     ]
    },
    {
     "name": "stderr",
     "output_type": "stream",
     "text": [
      "[I 2024-03-13 12:34:43,890] Trial 14 finished with value: 0.7454329451080648 and parameters: {'iterations': 601, 'learning_rate': 0.08779718254050488, 'depth': 5, 'l2_leaf_reg': 74.64598328347401, 'random_strength': 0.03182116776361836}. Best is trial 11 with value: 0.7490370331693179.\n"
     ]
    },
    {
     "name": "stdout",
     "output_type": "stream",
     "text": [
      "14 0.7454329451080648\n"
     ]
    },
    {
     "name": "stderr",
     "output_type": "stream",
     "text": [
      "/tmp/ipykernel_138387/2637116355.py:12: FutureWarning: suggest_loguniform has been deprecated in v3.0.0. This feature will be removed in v6.0.0. See https://github.com/optuna/optuna/releases/tag/v3.0.0. Use suggest_float(..., log=True) instead.\n",
      "  'learning_rate': trial.suggest_loguniform('learning_rate', 0.001, 0.1),\n",
      "/tmp/ipykernel_138387/2637116355.py:14: FutureWarning: suggest_loguniform has been deprecated in v3.0.0. This feature will be removed in v6.0.0. See https://github.com/optuna/optuna/releases/tag/v3.0.0. Use suggest_float(..., log=True) instead.\n",
      "  'l2_leaf_reg': trial.suggest_loguniform('l2_leaf_reg', 1e-8, 100),\n",
      "/tmp/ipykernel_138387/2637116355.py:15: FutureWarning: suggest_loguniform has been deprecated in v3.0.0. This feature will be removed in v6.0.0. See https://github.com/optuna/optuna/releases/tag/v3.0.0. Use suggest_float(..., log=True) instead.\n",
      "  'random_strength': trial.suggest_loguniform('random_strength', 1e-8, 1.0),\n",
      "Warning: less than 75% gpu memory available for training. Free: 3091.625 Total: 16151.125\n",
      "Warning: less than 75% gpu memory available for training. Free: 4655.625 Total: 16151.125\n"
     ]
    },
    {
     "name": "stdout",
     "output_type": "stream",
     "text": [
      "0:\tlearn: 0.6842381\ttest: 0.6842336\tbest: 0.6842336 (0)\ttotal: 881ms\tremaining: 10m 51s\n",
      "200:\tlearn: 0.1702184\ttest: 0.1700606\tbest: 0.1700606 (200)\ttotal: 2m 45s\tremaining: 7m 24s\n",
      "400:\tlearn: 0.1425980\ttest: 0.1429176\tbest: 0.1429176 (400)\ttotal: 5m 29s\tremaining: 4m 38s\n",
      "600:\tlearn: 0.1388250\ttest: 0.1397169\tbest: 0.1397169 (600)\ttotal: 8m 13s\tremaining: 1m 54s\n"
     ]
    }
   ],
   "source": [
    "params = {'iterations': 999, 'learning_rate': 0.08141778879314024, 'depth': 8, 'l2_leaf_reg': 13.085427934255682, 'random_strength': 0.00024998050498273446}"
   ]
  },
  {
   "cell_type": "code",
   "execution_count": 20,
   "metadata": {},
   "outputs": [
    {
     "name": "stdout",
     "output_type": "stream",
     "text": [
      "0:\tlearn: 0.5675155\ttotal: 185ms\tremaining: 3m 4s\n",
      "100:\tlearn: 0.1333741\ttotal: 24s\tremaining: 3m 33s\n",
      "200:\tlearn: 0.1302324\ttotal: 44.3s\tremaining: 2m 55s\n",
      "300:\tlearn: 0.1276973\ttotal: 1m 3s\tremaining: 2m 27s\n",
      "400:\tlearn: 0.1254583\ttotal: 1m 24s\tremaining: 2m 6s\n",
      "500:\tlearn: 0.1234730\ttotal: 1m 44s\tremaining: 1m 44s\n",
      "600:\tlearn: 0.1214324\ttotal: 2m 5s\tremaining: 1m 22s\n",
      "700:\tlearn: 0.1195369\ttotal: 2m 25s\tremaining: 1m 1s\n",
      "800:\tlearn: 0.1178288\ttotal: 2m 45s\tremaining: 40.8s\n",
      "900:\tlearn: 0.1157983\ttotal: 3m 5s\tremaining: 20.1s\n",
      "998:\tlearn: 0.1140163\ttotal: 3m 25s\tremaining: 0us\n",
      "roc-auc train 0.8503316792182049\n",
      "roc-auc val 0.7513380452054726\n",
      "roc-auc test 0.7538391348967476\n",
      "              precision    recall  f1-score   support\n",
      "\n",
      "           0       0.96      0.65      0.77     25016\n",
      "           1       0.04      0.36      0.07       965\n",
      "\n",
      "    accuracy                           0.64     25981\n",
      "   macro avg       0.50      0.50      0.42     25981\n",
      "weighted avg       0.93      0.64      0.75     25981\n",
      "\n"
     ]
    }
   ],
   "source": [
    "model = CatBoostClassifier(**params)\n",
    "model.fit(X_train, y_train, verbose=100)\n",
    "\n",
    "y_train_pred = model.predict_proba(X_train)[:, 1]\n",
    "y_val_pred = model.predict_proba(X_val)[:, 1]\n",
    "y_test_pred = model.predict_proba(X_test)[:, 1]\n",
    "\n",
    "predictions = np.where(y_test_pred > 0.03, 1, 0)\n",
    "\n",
    "roc_auc_train = roc_auc_score(y_train, y_train_pred)\n",
    "roc_auc_val = roc_auc_score(y_val, y_val_pred)\n",
    "roc_auc_test = roc_auc_score(y_test, y_test_pred)\n",
    "print(f\"roc-auc train {roc_auc_train}\")\n",
    "print(f\"roc-auc val {roc_auc_val}\")\n",
    "print(f\"roc-auc test {roc_auc_test}\")\n",
    "print(classification_report(y_val, predictions))"
   ]
  },
  {
   "cell_type": "code",
   "execution_count": 21,
   "metadata": {},
   "outputs": [
    {
     "data": {
      "image/png": "[encoded data removed]",
      "text/plain": [
       "<Figure size 640x480 with 1 Axes>"
      ]
     },
     "metadata": {},
     "output_type": "display_data"
    },
    {
     "name": "stdout",
     "output_type": "stream",
     "text": [
      "5-й квантиль: 0.6779855648101631\n",
      "95-й квантиль: 0.8114331498878621\n"
     ]
    }
   ],
   "source": [
    "seed = 42\n",
    "rng = np.random.RandomState(seed)\n",
    "\n",
    "roc_auc_scores = []\n",
    "\n",
    "for _ in range(100):  # Повторяем 100 раз\n",
    "    # Выбираем случайные 1000 элементов из X_val и соответствующие метки y_val с помощью созданного генератора\n",
    "    sample_indices = rng.choice(X_val.index, size=1000, replace=False)\n",
    "    X_val_sample = X_val.loc[sample_indices]\n",
    "    y_val_sample = y_val.loc[sample_indices]\n",
    "    \n",
    "    # Выполняем предсказание для выборки\n",
    "    y_pred_sample = model.predict_proba(X_val_sample)[:, 1]\n",
    "    \n",
    "    # Вычисляем roc_auc и добавляем в список\n",
    "    roc_auc = roc_auc_score(y_val_sample, y_pred_sample)\n",
    "    roc_auc_scores.append(roc_auc)\n",
    "\n",
    "# Визуализация распределения roc_auc с помощью гистограммы\n",
    "sns.histplot(roc_auc_scores, kde=True)\n",
    "plt.title('Распределение ROC-AUC для случайных подвыборок из X_val')\n",
    "plt.xlabel('ROC-AUC Score')\n",
    "plt.ylabel('Частота')\n",
    "plt.show()\n",
    "\n",
    "# Вычисление 5-го и 95-го квантилей\n",
    "quantile_5 = np.percentile(roc_auc_scores, 5)\n",
    "quantile_95 = np.percentile(roc_auc_scores, 95)\n",
    "\n",
    "print(f\"5-й квантиль: {quantile_5}\")\n",
    "print(f\"95-й квантиль: {quantile_95}\")"
   ]
  },
  {
   "cell_type": "code",
   "execution_count": 22,
   "metadata": {},
   "outputs": [],
   "source": [
    "import pickle\n",
    "\n",
    "#Сохранение модели\n",
    "with open('catboost_model.pkl', 'wb') as f:\n",
    "    pickle.dump(model, f)\n",
    "\n",
    "\n",
    "with open('catboost_model.pkl', 'rb') as f:\n",
    "    loaded_automl = pickle.load(f)\n"
   ]
  },
  {
   "cell_type": "code",
   "execution_count": 33,
   "metadata": {},
   "outputs": [],
   "source": [
    "file_path = \"Data/test_sber.parquet\"\n",
    "pf = ParquetFile(file_path)\n",
    "df = pf.to_pandas()\n",
    "id = df[\"id\"].values\n",
    "df = df[X_train.columns]\n",
    "y_pred = model.predict_proba(df[X_train.columns])[:, 1]\n",
    "predictions = np.where(y_pred > 0.03, 1, 0)\n",
    "submit = pd.DataFrame({\n",
    "    \"id\": id,\n",
    "    \"target_bin\":predictions,\n",
    "    \"target_prob\": y_pred\n",
    "})\n",
    "submit\n",
    "submit.to_csv(\"submit_catboost.csv\", index=False)"
   ]
  },
  {
   "cell_type": "code",
   "execution_count": 42,
   "metadata": {},
   "outputs": [
    {
     "data": {
      "image/png": "[encoded data removed]",
      "text/plain": [
       "<Figure size 640x480 with 1 Axes>"
      ]
     },
     "metadata": {},
     "output_type": "display_data"
    }
   ],
   "source": [
    "fpr, tpr, thresholds = roc_curve(y_test, y_test_pred)\n",
    "\n",
    "# Расчет площади под ROC-кривой (AUC)\n",
    "roc_auc = auc(fpr, tpr)\n",
    "\n",
    "# Построение ROC-кривой\n",
    "plt.figure()\n",
    "lw = 2  # Ширина линии\n",
    "plt.plot(fpr, tpr, color='darkorange', lw=lw, label='ROC curve (area = %0.2f)' % roc_auc)\n",
    "plt.plot([0, 1], [0, 1], color='navy', lw=lw, linestyle='--')\n",
    "plt.xlim([0.0, 1.0])\n",
    "plt.ylim([0.0, 1.05])\n",
    "plt.xlabel('False Positive Rate')\n",
    "plt.ylabel('True Positive Rate')\n",
    "plt.title('ROC-AUC Catboost')\n",
    "plt.legend(loc=\"lower right\")\n",
    "plt.show()"
   ]
  },
  {
   "cell_type": "code",
   "execution_count": 4,
   "metadata": {},
   "outputs": [
    {
     "name": "stdout",
     "output_type": "stream",
     "text": [
      "'nlp' extra dependecy package 'gensim' isn't installed. Look at README.md in repo 'LightAutoML' for installation instructions.\n",
      "'nlp' extra dependecy package 'nltk' isn't installed. Look at README.md in repo 'LightAutoML' for installation instructions.\n",
      "'nlp' extra dependecy package 'transformers' isn't installed. Look at README.md in repo 'LightAutoML' for installation instructions.\n"
     ]
    },
    {
     "name": "stderr",
     "output_type": "stream",
     "text": [
      "c:\\Users\\Александр\\Desktop\\УЧЕБА\\ХАКАТОНЫ\\IT Purple Hack\\purple_hack\\venv\\Lib\\site-packages\\tqdm\\auto.py:21: TqdmWarning: IProgress not found. Please update jupyter and ipywidgets. See https://ipywidgets.readthedocs.io/en/stable/user_install.html\n",
      "  from .autonotebook import tqdm as notebook_tqdm\n"
     ]
    },
    {
     "name": "stdout",
     "output_type": "stream",
     "text": [
      "'nlp' extra dependecy package 'gensim' isn't installed. Look at README.md in repo 'LightAutoML' for installation instructions.\n",
      "'nlp' extra dependecy package 'nltk' isn't installed. Look at README.md in repo 'LightAutoML' for installation instructions.\n",
      "'nlp' extra dependecy package 'transformers' isn't installed. Look at README.md in repo 'LightAutoML' for installation instructions.\n"
     ]
    },
    {
     "name": "stderr",
     "output_type": "stream",
     "text": [
      "c:\\Users\\Александр\\Desktop\\УЧЕБА\\ХАКАТОНЫ\\IT Purple Hack\\purple_hack\\venv\\Lib\\site-packages\\lightautoml\\ml_algo\\dl_model.py:42: UserWarning: 'transformers' - package isn't installed\n",
      "  warnings.warn(\"'transformers' - package isn't installed\")\n",
      "c:\\Users\\Александр\\Desktop\\УЧЕБА\\ХАКАТОНЫ\\IT Purple Hack\\purple_hack\\venv\\Lib\\site-packages\\lightautoml\\text\\embed.py:22: UserWarning: 'transformers' - package isn't installed\n",
      "  warnings.warn(\"'transformers' - package isn't installed\")\n",
      "c:\\Users\\Александр\\Desktop\\УЧЕБА\\ХАКАТОНЫ\\IT Purple Hack\\purple_hack\\venv\\Lib\\site-packages\\lightautoml\\text\\dl_transformers.py:25: UserWarning: 'transformers' - package isn't installed\n",
      "  warnings.warn(\"'transformers' - package isn't installed\")\n"
     ]
    }
   ],
   "source": [
    "#Сохранение модели\n",
    "import pickle\n",
    "with open('catboost_model.pkl', 'rb') as f:\n",
    "    catboost_model = pickle.load(f)\n",
    "with open('automl_model_0.769.pkl', 'rb') as f:\n",
    "    automl_model = pickle.load(f)"
   ]
  },
  {
   "cell_type": "code",
   "execution_count": 28,
   "metadata": {},
   "outputs": [],
   "source": [
    "# Используем предсказания моделей для формирования новых данных\n",
    "catboost_pred_train = catboost_model.predict_proba(X_train)[:, 1]\n",
    "auto_ml_train = automl_model.predict(X_train).data[:, 0]\n",
    "train_data = pd.DataFrame({\n",
    "    \"catboost\": catboost_pred_train,\n",
    "    \"automl\": auto_ml_train,\n",
    "    \"target\": y_train\n",
    "})\n",
    "\n",
    "catboost_pred_val = catboost_model.predict_proba(X_val)[:, 1]  # Исправлено на X_val\n",
    "auto_ml_val = automl_model.predict(X_val).data[:, 0]   # Исправлено на X_val\n",
    "val_data = pd.DataFrame({\n",
    "    \"catboost\": catboost_pred_val,\n",
    "    \"automl\": auto_ml_val,\n",
    "    \"target\": y_val\n",
    "})\n",
    "\n",
    "\n"
   ]
  },
  {
   "cell_type": "code",
   "execution_count": 30,
   "metadata": {},
   "outputs": [],
   "source": [
    "catboost_pred_test = catboost_model.predict_proba(X_test)[:, 1]  # Исправлено на X_test\n",
    "auto_ml_test = automl_model.predict(X_test).data[:, 0]  # Исправлено на X_test\n",
    "test_data = pd.DataFrame({\n",
    "    \"catboost\": catboost_pred_test,\n",
    "    \"automl\": auto_ml_test,\n",
    "    \"target\": y_test})"
   ]
  },
  {
   "cell_type": "code",
   "execution_count": 34,
   "metadata": {},
   "outputs": [],
   "source": [
    "X_final_train = train_data.drop(\"target\", axis=1)\n",
    "y_final_train = train_data[\"target\"]\n",
    "X_final_val = val_data.drop(\"target\", axis=1)\n",
    "y_final_val = val_data[\"target\"]\n",
    "X_final_test = test_data.drop(\"target\", axis=1)\n",
    "y_final_test = test_data[\"target\"]"
   ]
  },
  {
   "cell_type": "code",
   "execution_count": 38,
   "metadata": {},
   "outputs": [
    {
     "name": "stdout",
     "output_type": "stream",
     "text": [
      "0:\tlearn: 0.5371327\ttotal: 50.2ms\tremaining: 50.1s\n",
      "50:\tlearn: 0.0953832\ttotal: 2.05s\tremaining: 38.1s\n",
      "100:\tlearn: 0.0942408\ttotal: 3.8s\tremaining: 33.8s\n",
      "150:\tlearn: 0.0939555\ttotal: 5.46s\tremaining: 30.6s\n",
      "200:\tlearn: 0.0937827\ttotal: 7.14s\tremaining: 28.4s\n",
      "250:\tlearn: 0.0936405\ttotal: 8.87s\tremaining: 26.4s\n",
      "300:\tlearn: 0.0934989\ttotal: 10.6s\tremaining: 24.5s\n",
      "350:\tlearn: 0.0933987\ttotal: 12.3s\tremaining: 22.7s\n",
      "400:\tlearn: 0.0932921\ttotal: 14s\tremaining: 20.8s\n",
      "450:\tlearn: 0.0932120\ttotal: 15.6s\tremaining: 19s\n",
      "500:\tlearn: 0.0931110\ttotal: 17.3s\tremaining: 17.2s\n",
      "550:\tlearn: 0.0930124\ttotal: 18.9s\tremaining: 15.4s\n",
      "600:\tlearn: 0.0929090\ttotal: 20.6s\tremaining: 13.6s\n",
      "650:\tlearn: 0.0928314\ttotal: 22.2s\tremaining: 11.8s\n",
      "700:\tlearn: 0.0927525\ttotal: 23.8s\tremaining: 10.1s\n",
      "750:\tlearn: 0.0926710\ttotal: 25.5s\tremaining: 8.41s\n",
      "800:\tlearn: 0.0925946\ttotal: 27s\tremaining: 6.68s\n",
      "850:\tlearn: 0.0925211\ttotal: 28.7s\tremaining: 4.99s\n",
      "900:\tlearn: 0.0924525\ttotal: 30.4s\tremaining: 3.3s\n",
      "950:\tlearn: 0.0923825\ttotal: 32.1s\tremaining: 1.62s\n",
      "998:\tlearn: 0.0923127\ttotal: 33.7s\tremaining: 0us\n",
      "0.738746041911415\n"
     ]
    }
   ],
   "source": [
    "final_model = CatBoostClassifier(**params)\n",
    "final_model.fit(X_final_train, y_final_train, verbose = 50)\n",
    "\n",
    "y_train_pred = final_model.predict_proba(X_final_train)[:, 1]\n",
    "y_val_pred = final_model.predict_proba(X_final_val)[:, 1]\n",
    "\n",
    "\n",
    "roc_auc_val = roc_auc_score(y_final_val, y_val_pred)\n",
    "print(roc_auc_val)"
   ]
  },
  {
   "cell_type": "code",
   "execution_count": 41,
   "metadata": {},
   "outputs": [],
   "source": [
    "file_path = \"Data/test_sber.parquet\"\n",
    "pf = ParquetFile(file_path)\n",
    "df = pf.to_pandas()\n",
    "id = df[\"id\"].values\n",
    "df = df[X_train.columns]"
   ]
  },
  {
   "cell_type": "code",
   "execution_count": 45,
   "metadata": {},
   "outputs": [],
   "source": [
    "lama_pred = automl_model.predict(df).data[:,0]\n",
    "catboost_pred = catboost_model.predict_proba(df)[:, 1]\n",
    "to_pred = pd.DataFrame({\n",
    "    \"catboost\": catboost_pred,\n",
    "    \"automl\": lama_pred})\n",
    "\n",
    "y_pred = final_model.predict_proba(to_pred)[:, 1]\n",
    "predictions = np.where(y_pred > 0.03, 1, 0)\n",
    "submit = pd.DataFrame({\n",
    "    \"id\": id,\n",
    "    \"target_bin\":predictions,\n",
    "    \"target_prob\": y_pred\n",
    "})\n",
    "submit\n",
    "submit.to_csv(\"submit_catboost+lama.csv\", index=False)"
   ]
  },
  {
   "cell_type": "code",
   "execution_count": 43,
   "metadata": {},
   "outputs": [
    {
     "data": {
      "text/plain": [
       "(173433, 173433)"
      ]
     },
     "execution_count": 43,
     "metadata": {},
     "output_type": "execute_result"
    }
   ],
   "source": [
    "len(catboost_pred), len(lama_pred)"
   ]
  },
  {
   "cell_type": "code",
   "execution_count": 44,
   "metadata": {},
   "outputs": [
    {
     "data": {
      "text/plain": [
       "array([[0.98271996, 0.01728004],\n",
       "       [0.98093175, 0.01906825],\n",
       "       [0.96400901, 0.03599099],\n",
       "       ...,\n",
       "       [0.9052126 , 0.0947874 ],\n",
       "       [0.88929508, 0.11070492],\n",
       "       [0.92508849, 0.07491151]])"
      ]
     },
     "execution_count": 44,
     "metadata": {},
     "output_type": "execute_result"
    }
   ],
   "source": [
    "catboost_pred"
   ]
  }
 ],
 "metadata": {
  "kernelspec": {
   "display_name": "venv",
   "language": "python",
   "name": "python3"
  },
  "language_info": {
   "codemirror_mode": {
    "name": "ipython",
    "version": 3
   },
   "file_extension": ".py",
   "mimetype": "text/x-python",
   "name": "python",
   "nbconvert_exporter": "python",
   "pygments_lexer": "ipython3",
   "version": "3.11.8"
  }
 },
 "nbformat": 4,
 "nbformat_minor": 2
}
