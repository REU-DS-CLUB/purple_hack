{
 "cells": [
  {
   "cell_type": "code",
   "execution_count": 1,
   "metadata": {},
   "outputs": [
    {
     "name": "stdout",
     "output_type": "stream",
     "text": [
      "'nlp' extra dependecy package 'gensim' isn't installed. Look at README.md in repo 'LightAutoML' for installation instructions.\n",
      "'nlp' extra dependecy package 'nltk' isn't installed. Look at README.md in repo 'LightAutoML' for installation instructions.\n",
      "'nlp' extra dependecy package 'transformers' isn't installed. Look at README.md in repo 'LightAutoML' for installation instructions.\n",
      "'nlp' extra dependecy package 'gensim' isn't installed. Look at README.md in repo 'LightAutoML' for installation instructions.\n",
      "'nlp' extra dependecy package 'nltk' isn't installed. Look at README.md in repo 'LightAutoML' for installation instructions.\n",
      "'nlp' extra dependecy package 'transformers' isn't installed. Look at README.md in repo 'LightAutoML' for installation instructions.\n"
     ]
    },
    {
     "name": "stderr",
     "output_type": "stream",
     "text": [
      "c:\\Users\\Александр\\Desktop\\УЧЕБА\\ХАКАТОНЫ\\IT Purple Hack\\purple_hack\\venv\\Lib\\site-packages\\tqdm\\auto.py:21: TqdmWarning: IProgress not found. Please update jupyter and ipywidgets. See https://ipywidgets.readthedocs.io/en/stable/user_install.html\n",
      "  from .autonotebook import tqdm as notebook_tqdm\n",
      "c:\\Users\\Александр\\Desktop\\УЧЕБА\\ХАКАТОНЫ\\IT Purple Hack\\purple_hack\\venv\\Lib\\site-packages\\lightautoml\\ml_algo\\dl_model.py:42: UserWarning: 'transformers' - package isn't installed\n",
      "  warnings.warn(\"'transformers' - package isn't installed\")\n",
      "c:\\Users\\Александр\\Desktop\\УЧЕБА\\ХАКАТОНЫ\\IT Purple Hack\\purple_hack\\venv\\Lib\\site-packages\\lightautoml\\text\\embed.py:22: UserWarning: 'transformers' - package isn't installed\n",
      "  warnings.warn(\"'transformers' - package isn't installed\")\n",
      "c:\\Users\\Александр\\Desktop\\УЧЕБА\\ХАКАТОНЫ\\IT Purple Hack\\purple_hack\\venv\\Lib\\site-packages\\lightautoml\\text\\dl_transformers.py:25: UserWarning: 'transformers' - package isn't installed\n",
      "  warnings.warn(\"'transformers' - package isn't installed\")\n"
     ]
    }
   ],
   "source": [
    "from lightautoml.automl.presets.tabular_presets import TabularAutoML\n",
    "from lightautoml.tasks import Task\n",
    "import pandas as pd\n",
    "from fastparquet import ParquetFile\n",
    "from sklearn.metrics import  roc_auc_score, classification_report, roc_curve, auc\n",
    "from sklearn.model_selection import train_test_split\n",
    "\n",
    "import pandas as pd\n",
    "from fastparquet import ParquetFile\n",
    "import numpy as np\n",
    "\n",
    "import shap\n",
    "from utils import feature_drop, remove_highly_correlated_features, get_shap_feature, get_categorical_columns\n",
    "\n",
    "from catboost import CatBoostClassifier\n",
    "from xgboost import XGBClassifier\n",
    "import lightgbm as lgb\n",
    "\n",
    "import seaborn as sns\n",
    "import matplotlib.pyplot as plt\n",
    "colors = [\"#A115FE\", \"#8F00FF\", \"#4d0585\", \"#591878\", \"#6e1f78\", \"#7b469c\", \"#2c0652\",\n",
    "          \"#29AB50\", \"#22753b\", \"#ECE919\", \"#7a781d\", \"#0F91D0\", \"#0f3f75\"]\n",
    "sns.set_palette(sns.color_palette(colors))"
   ]
  },
  {
   "cell_type": "code",
   "execution_count": 2,
   "metadata": {},
   "outputs": [
    {
     "data": {
      "text/html": [
       "<div>\n",
       "<style scoped>\n",
       "    .dataframe tbody tr th:only-of-type {\n",
       "        vertical-align: middle;\n",
       "    }\n",
       "\n",
       "    .dataframe tbody tr th {\n",
       "        vertical-align: top;\n",
       "    }\n",
       "\n",
       "    .dataframe thead th {\n",
       "        text-align: right;\n",
       "    }\n",
       "</style>\n",
       "<table border=\"1\" class=\"dataframe\">\n",
       "  <thead>\n",
       "    <tr style=\"text-align: right;\">\n",
       "      <th></th>\n",
       "      <th>id</th>\n",
       "      <th>target</th>\n",
       "      <th>feature1</th>\n",
       "      <th>feature2</th>\n",
       "      <th>feature3</th>\n",
       "      <th>feature4</th>\n",
       "      <th>feature5</th>\n",
       "      <th>feature6</th>\n",
       "      <th>feature7</th>\n",
       "      <th>feature8</th>\n",
       "      <th>...</th>\n",
       "      <th>feature1067</th>\n",
       "      <th>feature1068</th>\n",
       "      <th>feature1069</th>\n",
       "      <th>feature1070</th>\n",
       "      <th>feature1071</th>\n",
       "      <th>feature1072</th>\n",
       "      <th>feature1073</th>\n",
       "      <th>feature1074</th>\n",
       "      <th>feature1075</th>\n",
       "      <th>feature1076</th>\n",
       "    </tr>\n",
       "  </thead>\n",
       "  <tbody>\n",
       "    <tr>\n",
       "      <th>0</th>\n",
       "      <td>0</td>\n",
       "      <td>0</td>\n",
       "      <td>1761</td>\n",
       "      <td>1759</td>\n",
       "      <td>85</td>\n",
       "      <td>105469</td>\n",
       "      <td>191</td>\n",
       "      <td>46</td>\n",
       "      <td>0</td>\n",
       "      <td>6</td>\n",
       "      <td>...</td>\n",
       "      <td>28913</td>\n",
       "      <td>48985</td>\n",
       "      <td>84264</td>\n",
       "      <td>12045</td>\n",
       "      <td>12107</td>\n",
       "      <td>12510</td>\n",
       "      <td>21126</td>\n",
       "      <td>28913</td>\n",
       "      <td>48985</td>\n",
       "      <td>84264</td>\n",
       "    </tr>\n",
       "    <tr>\n",
       "      <th>1</th>\n",
       "      <td>1</td>\n",
       "      <td>0</td>\n",
       "      <td>1761</td>\n",
       "      <td>1759</td>\n",
       "      <td>120</td>\n",
       "      <td>105610</td>\n",
       "      <td>144</td>\n",
       "      <td>71</td>\n",
       "      <td>0</td>\n",
       "      <td>135</td>\n",
       "      <td>...</td>\n",
       "      <td>0</td>\n",
       "      <td>0</td>\n",
       "      <td>0</td>\n",
       "      <td>0</td>\n",
       "      <td>0</td>\n",
       "      <td>0</td>\n",
       "      <td>0</td>\n",
       "      <td>0</td>\n",
       "      <td>0</td>\n",
       "      <td>0</td>\n",
       "    </tr>\n",
       "    <tr>\n",
       "      <th>2</th>\n",
       "      <td>2</td>\n",
       "      <td>0</td>\n",
       "      <td>890</td>\n",
       "      <td>1759</td>\n",
       "      <td>141</td>\n",
       "      <td>105227</td>\n",
       "      <td>191</td>\n",
       "      <td>11</td>\n",
       "      <td>0</td>\n",
       "      <td>0</td>\n",
       "      <td>...</td>\n",
       "      <td>55949</td>\n",
       "      <td>70006</td>\n",
       "      <td>113317</td>\n",
       "      <td>33735</td>\n",
       "      <td>31242</td>\n",
       "      <td>12691</td>\n",
       "      <td>48682</td>\n",
       "      <td>55949</td>\n",
       "      <td>70006</td>\n",
       "      <td>113317</td>\n",
       "    </tr>\n",
       "    <tr>\n",
       "      <th>5</th>\n",
       "      <td>5</td>\n",
       "      <td>0</td>\n",
       "      <td>1599</td>\n",
       "      <td>966</td>\n",
       "      <td>30</td>\n",
       "      <td>102441</td>\n",
       "      <td>191</td>\n",
       "      <td>8</td>\n",
       "      <td>0</td>\n",
       "      <td>0</td>\n",
       "      <td>...</td>\n",
       "      <td>0</td>\n",
       "      <td>6872</td>\n",
       "      <td>8530</td>\n",
       "      <td>0</td>\n",
       "      <td>0</td>\n",
       "      <td>0</td>\n",
       "      <td>0</td>\n",
       "      <td>0</td>\n",
       "      <td>6872</td>\n",
       "      <td>8530</td>\n",
       "    </tr>\n",
       "    <tr>\n",
       "      <th>6</th>\n",
       "      <td>6</td>\n",
       "      <td>0</td>\n",
       "      <td>1761</td>\n",
       "      <td>1759</td>\n",
       "      <td>85</td>\n",
       "      <td>104006</td>\n",
       "      <td>191</td>\n",
       "      <td>2</td>\n",
       "      <td>0</td>\n",
       "      <td>0</td>\n",
       "      <td>...</td>\n",
       "      <td>0</td>\n",
       "      <td>0</td>\n",
       "      <td>7642</td>\n",
       "      <td>0</td>\n",
       "      <td>0</td>\n",
       "      <td>0</td>\n",
       "      <td>0</td>\n",
       "      <td>0</td>\n",
       "      <td>0</td>\n",
       "      <td>7642</td>\n",
       "    </tr>\n",
       "  </tbody>\n",
       "</table>\n",
       "<p>5 rows × 988 columns</p>\n",
       "</div>"
      ],
      "text/plain": [
       "   id  target  feature1  feature2  feature3  feature4  feature5  feature6  \\\n",
       "0   0       0      1761      1759        85    105469       191        46   \n",
       "1   1       0      1761      1759       120    105610       144        71   \n",
       "2   2       0       890      1759       141    105227       191        11   \n",
       "5   5       0      1599       966        30    102441       191         8   \n",
       "6   6       0      1761      1759        85    104006       191         2   \n",
       "\n",
       "   feature7  feature8  ...  feature1067  feature1068  feature1069  \\\n",
       "0         0         6  ...        28913        48985        84264   \n",
       "1         0       135  ...            0            0            0   \n",
       "2         0         0  ...        55949        70006       113317   \n",
       "5         0         0  ...            0         6872         8530   \n",
       "6         0         0  ...            0            0         7642   \n",
       "\n",
       "   feature1070  feature1071  feature1072  feature1073  feature1074  \\\n",
       "0        12045        12107        12510        21126        28913   \n",
       "1            0            0            0            0            0   \n",
       "2        33735        31242        12691        48682        55949   \n",
       "5            0            0            0            0            0   \n",
       "6            0            0            0            0            0   \n",
       "\n",
       "   feature1075  feature1076  \n",
       "0        48985        84264  \n",
       "1            0            0  \n",
       "2        70006       113317  \n",
       "5         6872         8530  \n",
       "6            0         7642  \n",
       "\n",
       "[5 rows x 988 columns]"
      ]
     },
     "execution_count": 2,
     "metadata": {},
     "output_type": "execute_result"
    }
   ],
   "source": [
    "file_path = \"Data/train_ai_comp_final_dp.parquet\"\n",
    "pf = ParquetFile(file_path)\n",
    "df = pf.to_pandas()\n",
    "df = feature_drop(df)\n",
    "df.head()"
   ]
  },
  {
   "cell_type": "code",
   "execution_count": 3,
   "metadata": {},
   "outputs": [],
   "source": [
    "X = df.drop(columns=[\"target\", \"id\"])\n",
    "y = df[\"target\"]"
   ]
  },
  {
   "cell_type": "code",
   "execution_count": 4,
   "metadata": {},
   "outputs": [],
   "source": [
    "X = df.drop(columns=['target', \"id\"])\n",
    "y = df['target']\n",
    "X_train, X_temp, y_train, y_temp = train_test_split(X, y, test_size=0.1, random_state=42)\n",
    "X_val, X_test, y_val, y_test = train_test_split(X_temp, y_temp, test_size=0.5, random_state=42)"
   ]
  },
  {
   "cell_type": "code",
   "execution_count": 5,
   "metadata": {},
   "outputs": [
    {
     "name": "stderr",
     "output_type": "stream",
     "text": [
      "c:\\Users\\Александр\\Desktop\\УЧЕБА\\ХАКАТОНЫ\\IT Purple Hack\\purple_hack\\venv\\Lib\\site-packages\\shap\\explainers\\_tree.py:448: UserWarning: LightGBM binary classifier with TreeExplainer shap values output has changed to a list of ndarray\n",
      "  warnings.warn('LightGBM binary classifier with TreeExplainer shap values output has changed to a list of ndarray')\n"
     ]
    },
    {
     "name": "stdout",
     "output_type": "stream",
     "text": [
      "0:\tlearn: 0.6777154\ttotal: 515ms\tremaining: 25.2s\n",
      "49:\tlearn: 0.2795179\ttotal: 21.9s\tremaining: 0us\n"
     ]
    }
   ],
   "source": [
    "classifiers = [\n",
    "    lgb.LGBMClassifier(n_estimators=50, random_state=42, max_depth=8, learning_rate=0.01),\n",
    "    XGBClassifier(n_estimators=50, random_state=42, max_depth=8, learning_rate=0.01),\n",
    "    CatBoostClassifier(iterations=50, learning_rate=0.01, depth=8, loss_function='Logloss', verbose=500)\n",
    "]\n",
    "shap_df  = get_shap_feature(X_train, y_train, X_test, classifiers)\n"
   ]
  },
  {
   "cell_type": "code",
   "execution_count": 6,
   "metadata": {},
   "outputs": [
    {
     "data": {
      "text/html": [
       "<div>\n",
       "<style scoped>\n",
       "    .dataframe tbody tr th:only-of-type {\n",
       "        vertical-align: middle;\n",
       "    }\n",
       "\n",
       "    .dataframe tbody tr th {\n",
       "        vertical-align: top;\n",
       "    }\n",
       "\n",
       "    .dataframe thead th {\n",
       "        text-align: right;\n",
       "    }\n",
       "</style>\n",
       "<table border=\"1\" class=\"dataframe\">\n",
       "  <thead>\n",
       "    <tr style=\"text-align: right;\">\n",
       "      <th></th>\n",
       "      <th>feature</th>\n",
       "      <th>shap_importance</th>\n",
       "    </tr>\n",
       "  </thead>\n",
       "  <tbody>\n",
       "    <tr>\n",
       "      <th>574</th>\n",
       "      <td>feature994</td>\n",
       "      <td>4.288690e-02</td>\n",
       "    </tr>\n",
       "    <tr>\n",
       "      <th>203</th>\n",
       "      <td>feature341</td>\n",
       "      <td>2.483448e-02</td>\n",
       "    </tr>\n",
       "    <tr>\n",
       "      <th>192</th>\n",
       "      <td>feature319</td>\n",
       "      <td>2.418532e-02</td>\n",
       "    </tr>\n",
       "    <tr>\n",
       "      <th>6</th>\n",
       "      <td>feature1004</td>\n",
       "      <td>2.386159e-02</td>\n",
       "    </tr>\n",
       "    <tr>\n",
       "      <th>560</th>\n",
       "      <td>feature954</td>\n",
       "      <td>1.294682e-02</td>\n",
       "    </tr>\n",
       "    <tr>\n",
       "      <th>...</th>\n",
       "      <td>...</td>\n",
       "      <td>...</td>\n",
       "    </tr>\n",
       "    <tr>\n",
       "      <th>324</th>\n",
       "      <td>feature51</td>\n",
       "      <td>3.749350e-07</td>\n",
       "    </tr>\n",
       "    <tr>\n",
       "      <th>165</th>\n",
       "      <td>feature27</td>\n",
       "      <td>2.174389e-07</td>\n",
       "    </tr>\n",
       "    <tr>\n",
       "      <th>523</th>\n",
       "      <td>feature910</td>\n",
       "      <td>2.006125e-07</td>\n",
       "    </tr>\n",
       "    <tr>\n",
       "      <th>507</th>\n",
       "      <td>feature889</td>\n",
       "      <td>1.438104e-07</td>\n",
       "    </tr>\n",
       "    <tr>\n",
       "      <th>410</th>\n",
       "      <td>feature662</td>\n",
       "      <td>8.909561e-08</td>\n",
       "    </tr>\n",
       "  </tbody>\n",
       "</table>\n",
       "<p>578 rows × 2 columns</p>\n",
       "</div>"
      ],
      "text/plain": [
       "         feature  shap_importance\n",
       "574   feature994     4.288690e-02\n",
       "203   feature341     2.483448e-02\n",
       "192   feature319     2.418532e-02\n",
       "6    feature1004     2.386159e-02\n",
       "560   feature954     1.294682e-02\n",
       "..           ...              ...\n",
       "324    feature51     3.749350e-07\n",
       "165    feature27     2.174389e-07\n",
       "523   feature910     2.006125e-07\n",
       "507   feature889     1.438104e-07\n",
       "410   feature662     8.909561e-08\n",
       "\n",
       "[578 rows x 2 columns]"
      ]
     },
     "execution_count": 6,
     "metadata": {},
     "output_type": "execute_result"
    }
   ],
   "source": [
    "shap_df.sort_values(by=\"shap_importance\", ascending=False)"
   ]
  },
  {
   "cell_type": "code",
   "execution_count": 7,
   "metadata": {},
   "outputs": [],
   "source": [
    "feature = shap_df[\"feature\"].values\n",
    "X_test, X_train= X_test[feature], X_train[feature]\n",
    "without_drop = shap_df.sort_values(by = \"shap_importance\", ascending = False)[\"feature\"].head(10)\n",
    "columns_to_remove = remove_highly_correlated_features(X_train.drop(columns=without_drop.values), shap_df, threshold=0.9)\n",
    "X_train, X_val, X_test = X_train.drop(columns=columns_to_remove), X_val.drop(columns=columns_to_remove), X_test.drop(columns=columns_to_remove)\n",
    "category = get_categorical_columns(X_train)"
   ]
  },
  {
   "cell_type": "code",
   "execution_count": 8,
   "metadata": {},
   "outputs": [],
   "source": [
    "feature_final = X_train.columns"
   ]
  },
  {
   "cell_type": "code",
   "execution_count": null,
   "metadata": {},
   "outputs": [],
   "source": [
    "train = pd.concat([X_train, y_train], axis=1)\n",
    "validate = pd.concat([X_val, y_val], axis=1)"
   ]
  },
  {
   "cell_type": "code",
   "execution_count": null,
   "metadata": {},
   "outputs": [
    {
     "ename": "NameError",
     "evalue": "name 'Task' is not defined",
     "output_type": "error",
     "traceback": [
      "\u001b[1;31m---------------------------------------------------------------------------\u001b[0m",
      "\u001b[1;31mNameError\u001b[0m                                 Traceback (most recent call last)",
      "Cell \u001b[1;32mIn[1], line 1\u001b[0m\n\u001b[1;32m----> 1\u001b[0m task \u001b[38;5;241m=\u001b[39m \u001b[43mTask\u001b[49m(\u001b[38;5;124m'\u001b[39m\u001b[38;5;124mbinary\u001b[39m\u001b[38;5;124m'\u001b[39m, metric\u001b[38;5;241m=\u001b[39m\u001b[38;5;124m'\u001b[39m\u001b[38;5;124mauc\u001b[39m\u001b[38;5;124m'\u001b[39m)\n\u001b[0;32m      3\u001b[0m \u001b[38;5;66;03m# Настройка параметров тюнинга\u001b[39;00m\n\u001b[0;32m      4\u001b[0m tuning_params \u001b[38;5;241m=\u001b[39m {\n\u001b[0;32m      5\u001b[0m     \u001b[38;5;124m'\u001b[39m\u001b[38;5;124mmax_tuning_time\u001b[39m\u001b[38;5;124m'\u001b[39m: \u001b[38;5;241m3600\u001b[39m,  \u001b[38;5;66;03m# Максимальное время тюнинга в секундах\u001b[39;00m\n\u001b[0;32m      6\u001b[0m     \u001b[38;5;124m'\u001b[39m\u001b[38;5;124mmax_tuning_iter\u001b[39m\u001b[38;5;124m'\u001b[39m: \u001b[38;5;241m1000\u001b[39m,   \u001b[38;5;66;03m# Максимальное количество итераций тюнинга\u001b[39;00m\n\u001b[0;32m      7\u001b[0m     \u001b[38;5;66;03m# Другие параметры тюнинга по необходимости\u001b[39;00m\n\u001b[0;32m      8\u001b[0m }\n",
      "\u001b[1;31mNameError\u001b[0m: name 'Task' is not defined"
     ]
    }
   ],
   "source": [
    "task = Task('binary', metric='auc')\n",
    "\n",
    "tuning_params = {\n",
    "    'max_tuning_time': 3600,  # Максимальное время тюнинга в секундах\n",
    "    'max_tuning_iter': 1000,   # Максимальное количество итераций тюнинга\n",
    "    # Другие параметры тюнинга по необходимости\n",
    "}\n",
    "\n",
    "# Настройка AutoML\n",
    "automl = TabularAutoML(\n",
    "    task=task,\n",
    "    timeout=3600 * 3,  # Установите желаемое время в секундах\n",
    "    cpu_limit=4,\n",
    "    memory_limit=16,  # Установите лимит памяти в GB\n",
    "    gpu_ids='1',  # Используйте GPU для ускорения (если доступно)\n",
    "    reader_params={'cv': 5, 'random_state': 42},\n",
    "    general_params={'use_algos': [['linear_l2', 'lgb', 'lgb_tuned', 'catboost', 'catboost_tuned', 'xgboost']]},\n",
    "    tuning_params=tuning_params\n",
    ")\n",
    "\n",
    "# Определение ролей\n",
    "roles = {\n",
    "    'target': 'target',\n",
    "    'category': category,  # Пример для категориальных признаков\n",
    "}\n",
    "\n",
    "oof_pred = automl.fit_predict(train, roles=roles, valid_data=validate)\n"
   ]
  },
  {
   "cell_type": "code",
   "execution_count": null,
   "metadata": {},
   "outputs": [],
   "source": [
    "import pickle\n",
    "\n",
    "#Сохранение модели\n",
    "with open('automl_model.pkl', 'wb') as f:\n",
    "    pickle.dump(automl, f)\n",
    "\n",
    "\n",
    "with open('automl_model.pkl', 'rb') as f:\n",
    "    loaded_automl = pickle.load(f)\n"
   ]
  },
  {
   "cell_type": "code",
   "execution_count": null,
   "metadata": {},
   "outputs": [
    {
     "data": {
      "text/plain": [
       "array([0.01373336, 0.00944947, 0.01396201, ..., 0.13669124, 0.02250035,\n",
       "       0.03463944], dtype=float32)"
      ]
     },
     "execution_count": 35,
     "metadata": {},
     "output_type": "execute_result"
    }
   ],
   "source": [
    "predict = loaded_automl.predict(X_val)\n",
    "predict.data[:, 0]"
   ]
  },
  {
   "cell_type": "code",
   "execution_count": 36,
   "metadata": {},
   "outputs": [
    {
     "name": "stdout",
     "output_type": "stream",
     "text": [
      "roc-auc train 0.8892989562632411\n",
      "roc-auc test 0.7560727973475214\n",
      "              precision    recall  f1-score   support\n",
      "\n",
      "           0       0.98      0.83      0.90     25016\n",
      "           1       0.10      0.51      0.17       965\n",
      "\n",
      "    accuracy                           0.82     25981\n",
      "   macro avg       0.54      0.67      0.53     25981\n",
      "weighted avg       0.95      0.82      0.87     25981\n",
      "\n"
     ]
    }
   ],
   "source": [
    "y_train_pred = loaded_automl.predict(X_train).data[:, 0]\n",
    "y_val_pred = loaded_automl.predict(X_val).data[:, 0]\n",
    "\n",
    "predictions = np.where(y_val_pred > 0.05, 1, 0)\n",
    "\n",
    "roc_auc_train = roc_auc_score(y_train, y_train_pred)\n",
    "roc_auc_test = roc_auc_score(y_val, y_val_pred)\n",
    "print(f\"roc-auc train {roc_auc_train}\")\n",
    "print(f\"roc-auc test {roc_auc_test}\")\n",
    "print(classification_report(y_val, predictions))"
   ]
  },
  {
   "cell_type": "code",
   "execution_count": 37,
   "metadata": {},
   "outputs": [
    {
     "data": {
      "image/png": "[encoded data removed]",
      "text/plain": [
       "<Figure size 640x480 with 1 Axes>"
      ]
     },
     "metadata": {},
     "output_type": "display_data"
    },
    {
     "name": "stdout",
     "output_type": "stream",
     "text": [
      "5-й квантиль: 0.690348131001246\n",
      "95-й квантиль: 0.8139387181858744\n"
     ]
    }
   ],
   "source": [
    "seed = 42\n",
    "rng = np.random.RandomState(seed)\n",
    "\n",
    "roc_auc_scores = []\n",
    "\n",
    "for _ in range(100):  # Повторяем 100 раз\n",
    "    # Выбираем случайные 1000 элементов из X_val и соответствующие метки y_val с помощью созданного генератора\n",
    "    sample_indices = rng.choice(X_test.index, size=1000, replace=False)\n",
    "    X_val_sample = X_test.loc[sample_indices]\n",
    "    y_val_sample = y_test.loc[sample_indices]\n",
    "    \n",
    "    # Выполняем предсказание для выборки\n",
    "    y_pred_sample = loaded_automl.predict(X_val_sample).data[:, 0]\n",
    "    \n",
    "    # Вычисляем roc_auc и добавляем в список\n",
    "    roc_auc = roc_auc_score(y_val_sample, y_pred_sample)\n",
    "    roc_auc_scores.append(roc_auc)\n",
    "\n",
    "# Визуализация распределения roc_auc с помощью гистограммы\n",
    "sns.histplot(roc_auc_scores, kde=True)\n",
    "plt.title('Распределение ROC-AUC для случайных подвыборок из X_val')\n",
    "plt.xlabel('ROC-AUC Score')\n",
    "plt.ylabel('Частота')\n",
    "plt.show()\n",
    "\n",
    "# Вычисление 5-го и 95-го квантилей\n",
    "quantile_5 = np.percentile(roc_auc_scores, 5)\n",
    "quantile_95 = np.percentile(roc_auc_scores, 95)\n",
    "\n",
    "print(f\"5-й квантиль: {quantile_5}\")\n",
    "print(f\"95-й квантиль: {quantile_95}\")"
   ]
  },
  {
   "cell_type": "code",
   "execution_count": 38,
   "metadata": {},
   "outputs": [
    {
     "data": {
      "text/html": [
       "<div>\n",
       "<style scoped>\n",
       "    .dataframe tbody tr th:only-of-type {\n",
       "        vertical-align: middle;\n",
       "    }\n",
       "\n",
       "    .dataframe tbody tr th {\n",
       "        vertical-align: top;\n",
       "    }\n",
       "\n",
       "    .dataframe thead th {\n",
       "        text-align: right;\n",
       "    }\n",
       "</style>\n",
       "<table border=\"1\" class=\"dataframe\">\n",
       "  <thead>\n",
       "    <tr style=\"text-align: right;\">\n",
       "      <th></th>\n",
       "      <th>Feature</th>\n",
       "      <th>Importance</th>\n",
       "    </tr>\n",
       "  </thead>\n",
       "  <tbody>\n",
       "    <tr>\n",
       "      <th>0</th>\n",
       "      <td>feature994</td>\n",
       "      <td>21942.120573</td>\n",
       "    </tr>\n",
       "    <tr>\n",
       "      <th>1</th>\n",
       "      <td>feature1004</td>\n",
       "      <td>16681.190608</td>\n",
       "    </tr>\n",
       "    <tr>\n",
       "      <th>2</th>\n",
       "      <td>feature954</td>\n",
       "      <td>13650.978274</td>\n",
       "    </tr>\n",
       "    <tr>\n",
       "      <th>3</th>\n",
       "      <td>feature319</td>\n",
       "      <td>13489.615556</td>\n",
       "    </tr>\n",
       "    <tr>\n",
       "      <th>4</th>\n",
       "      <td>feature341</td>\n",
       "      <td>10244.438960</td>\n",
       "    </tr>\n",
       "    <tr>\n",
       "      <th>5</th>\n",
       "      <td>feature940</td>\n",
       "      <td>9192.182395</td>\n",
       "    </tr>\n",
       "    <tr>\n",
       "      <th>6</th>\n",
       "      <td>feature320</td>\n",
       "      <td>7817.141413</td>\n",
       "    </tr>\n",
       "    <tr>\n",
       "      <th>7</th>\n",
       "      <td>feature357</td>\n",
       "      <td>7071.866068</td>\n",
       "    </tr>\n",
       "    <tr>\n",
       "      <th>8</th>\n",
       "      <td>feature950</td>\n",
       "      <td>7030.367928</td>\n",
       "    </tr>\n",
       "    <tr>\n",
       "      <th>9</th>\n",
       "      <td>feature356</td>\n",
       "      <td>6913.686033</td>\n",
       "    </tr>\n",
       "    <tr>\n",
       "      <th>10</th>\n",
       "      <td>feature953</td>\n",
       "      <td>6525.688675</td>\n",
       "    </tr>\n",
       "    <tr>\n",
       "      <th>11</th>\n",
       "      <td>feature952</td>\n",
       "      <td>6216.067186</td>\n",
       "    </tr>\n",
       "    <tr>\n",
       "      <th>12</th>\n",
       "      <td>feature208</td>\n",
       "      <td>5948.531178</td>\n",
       "    </tr>\n",
       "    <tr>\n",
       "      <th>13</th>\n",
       "      <td>feature939</td>\n",
       "      <td>5897.013617</td>\n",
       "    </tr>\n",
       "    <tr>\n",
       "      <th>14</th>\n",
       "      <td>feature951</td>\n",
       "      <td>5815.022259</td>\n",
       "    </tr>\n",
       "    <tr>\n",
       "      <th>15</th>\n",
       "      <td>feature190</td>\n",
       "      <td>5522.221955</td>\n",
       "    </tr>\n",
       "    <tr>\n",
       "      <th>16</th>\n",
       "      <td>feature350</td>\n",
       "      <td>5487.911259</td>\n",
       "    </tr>\n",
       "    <tr>\n",
       "      <th>17</th>\n",
       "      <td>feature938</td>\n",
       "      <td>5156.671417</td>\n",
       "    </tr>\n",
       "    <tr>\n",
       "      <th>18</th>\n",
       "      <td>feature340</td>\n",
       "      <td>5074.183255</td>\n",
       "    </tr>\n",
       "    <tr>\n",
       "      <th>19</th>\n",
       "      <td>feature917</td>\n",
       "      <td>4906.273758</td>\n",
       "    </tr>\n",
       "  </tbody>\n",
       "</table>\n",
       "</div>"
      ],
      "text/plain": [
       "        Feature    Importance\n",
       "0    feature994  21942.120573\n",
       "1   feature1004  16681.190608\n",
       "2    feature954  13650.978274\n",
       "3    feature319  13489.615556\n",
       "4    feature341  10244.438960\n",
       "5    feature940   9192.182395\n",
       "6    feature320   7817.141413\n",
       "7    feature357   7071.866068\n",
       "8    feature950   7030.367928\n",
       "9    feature356   6913.686033\n",
       "10   feature953   6525.688675\n",
       "11   feature952   6216.067186\n",
       "12   feature208   5948.531178\n",
       "13   feature939   5897.013617\n",
       "14   feature951   5815.022259\n",
       "15   feature190   5522.221955\n",
       "16   feature350   5487.911259\n",
       "17   feature938   5156.671417\n",
       "18   feature340   5074.183255\n",
       "19   feature917   4906.273758"
      ]
     },
     "execution_count": 38,
     "metadata": {},
     "output_type": "execute_result"
    }
   ],
   "source": [
    "loaded_automl.get_feature_scores().head(20)"
   ]
  },
  {
   "cell_type": "code",
   "execution_count": 41,
   "metadata": {},
   "outputs": [
    {
     "name": "stdout",
     "output_type": "stream",
     "text": [
      "roc-auc train 0.8892989562632411\n",
      "roc-auc test 0.7550092604046477\n",
      "              precision    recall  f1-score   support\n",
      "\n",
      "           0       0.98      0.83      0.90     25055\n",
      "           1       0.10      0.52      0.17       926\n",
      "\n",
      "    accuracy                           0.81     25981\n",
      "   macro avg       0.54      0.67      0.53     25981\n",
      "weighted avg       0.95      0.81      0.87     25981\n",
      "\n"
     ]
    }
   ],
   "source": [
    "y_train_pred = loaded_automl.predict(X_train).data[:, 0]\n",
    "y_val_pred = loaded_automl.predict(X_test).data[:, 0]\n",
    "\n",
    "predictions = np.where(y_val_pred > 0.05, 1, 0)\n",
    "\n",
    "roc_auc_train = roc_auc_score(y_train, y_train_pred)\n",
    "roc_auc_test = roc_auc_score(y_test, y_val_pred)\n",
    "print(f\"roc-auc train {roc_auc_train}\")\n",
    "print(f\"roc-auc test {roc_auc_test}\")\n",
    "print(classification_report(y_test, predictions))"
   ]
  },
  {
   "cell_type": "code",
   "execution_count": 46,
   "metadata": {},
   "outputs": [],
   "source": [
    "file_path = \"Data/test_sber.parquet\"\n",
    "pf = ParquetFile(file_path)\n",
    "df = pf.to_pandas()"
   ]
  },
  {
   "cell_type": "code",
   "execution_count": 49,
   "metadata": {},
   "outputs": [],
   "source": [
    "id = df[\"id\"].values\n",
    "df = df[feature_final]\n",
    "y_pred = loaded_automl.predict(df).data[:, 0]\n",
    "predictions = np.where(y_pred > 0.03, 1, 0)"
   ]
  },
  {
   "cell_type": "code",
   "execution_count": 54,
   "metadata": {},
   "outputs": [
    {
     "data": {
      "text/plain": [
       "(173433, 173433, 173433)"
      ]
     },
     "execution_count": 54,
     "metadata": {},
     "output_type": "execute_result"
    }
   ],
   "source": [
    "len(y_pred), len(predictions), len(id)"
   ]
  },
  {
   "cell_type": "code",
   "execution_count": 55,
   "metadata": {},
   "outputs": [
    {
     "data": {
      "text/html": [
       "<div>\n",
       "<style scoped>\n",
       "    .dataframe tbody tr th:only-of-type {\n",
       "        vertical-align: middle;\n",
       "    }\n",
       "\n",
       "    .dataframe tbody tr th {\n",
       "        vertical-align: top;\n",
       "    }\n",
       "\n",
       "    .dataframe thead th {\n",
       "        text-align: right;\n",
       "    }\n",
       "</style>\n",
       "<table border=\"1\" class=\"dataframe\">\n",
       "  <thead>\n",
       "    <tr style=\"text-align: right;\">\n",
       "      <th></th>\n",
       "      <th>id</th>\n",
       "      <th>target_bin</th>\n",
       "      <th>target_prob</th>\n",
       "    </tr>\n",
       "  </thead>\n",
       "  <tbody>\n",
       "    <tr>\n",
       "      <th>0</th>\n",
       "      <td>3</td>\n",
       "      <td>0</td>\n",
       "      <td>0.026040</td>\n",
       "    </tr>\n",
       "    <tr>\n",
       "      <th>1</th>\n",
       "      <td>4</td>\n",
       "      <td>0</td>\n",
       "      <td>0.020900</td>\n",
       "    </tr>\n",
       "    <tr>\n",
       "      <th>2</th>\n",
       "      <td>12</td>\n",
       "      <td>1</td>\n",
       "      <td>0.057360</td>\n",
       "    </tr>\n",
       "    <tr>\n",
       "      <th>3</th>\n",
       "      <td>16</td>\n",
       "      <td>0</td>\n",
       "      <td>0.009455</td>\n",
       "    </tr>\n",
       "    <tr>\n",
       "      <th>4</th>\n",
       "      <td>20</td>\n",
       "      <td>1</td>\n",
       "      <td>0.056118</td>\n",
       "    </tr>\n",
       "    <tr>\n",
       "      <th>...</th>\n",
       "      <td>...</td>\n",
       "      <td>...</td>\n",
       "      <td>...</td>\n",
       "    </tr>\n",
       "    <tr>\n",
       "      <th>173428</th>\n",
       "      <td>693043</td>\n",
       "      <td>1</td>\n",
       "      <td>0.133050</td>\n",
       "    </tr>\n",
       "    <tr>\n",
       "      <th>173429</th>\n",
       "      <td>693044</td>\n",
       "      <td>1</td>\n",
       "      <td>0.077361</td>\n",
       "    </tr>\n",
       "    <tr>\n",
       "      <th>173430</th>\n",
       "      <td>693045</td>\n",
       "      <td>1</td>\n",
       "      <td>0.109113</td>\n",
       "    </tr>\n",
       "    <tr>\n",
       "      <th>173431</th>\n",
       "      <td>693046</td>\n",
       "      <td>1</td>\n",
       "      <td>0.236513</td>\n",
       "    </tr>\n",
       "    <tr>\n",
       "      <th>173432</th>\n",
       "      <td>693047</td>\n",
       "      <td>1</td>\n",
       "      <td>0.109593</td>\n",
       "    </tr>\n",
       "  </tbody>\n",
       "</table>\n",
       "<p>173433 rows × 3 columns</p>\n",
       "</div>"
      ],
      "text/plain": [
       "            id  target_bin  target_prob\n",
       "0            3           0     0.026040\n",
       "1            4           0     0.020900\n",
       "2           12           1     0.057360\n",
       "3           16           0     0.009455\n",
       "4           20           1     0.056118\n",
       "...        ...         ...          ...\n",
       "173428  693043           1     0.133050\n",
       "173429  693044           1     0.077361\n",
       "173430  693045           1     0.109113\n",
       "173431  693046           1     0.236513\n",
       "173432  693047           1     0.109593\n",
       "\n",
       "[173433 rows x 3 columns]"
      ]
     },
     "execution_count": 55,
     "metadata": {},
     "output_type": "execute_result"
    }
   ],
   "source": [
    "submit = pd.DataFrame({\n",
    "    \"id\": id,\n",
    "    \"target_bin\":predictions,\n",
    "    \"target_prob\": y_pred\n",
    "})\n",
    "submit"
   ]
  },
  {
   "cell_type": "code",
   "execution_count": 56,
   "metadata": {},
   "outputs": [],
   "source": [
    "submit.to_csv(\"submit.csv\", index=False)"
   ]
  },
  {
   "cell_type": "code",
   "execution_count": 10,
   "metadata": {},
   "outputs": [],
   "source": [
    "import pickle\n",
    "with open('automl_model_0.769.pkl', 'rb') as f:\n",
    "    loaded_automl = pickle.load(f)"
   ]
  },
  {
   "cell_type": "code",
   "execution_count": 11,
   "metadata": {},
   "outputs": [
    {
     "data": {
      "image/png": "[encoded data removed]",
      "text/plain": [
       "<Figure size 800x600 with 1 Axes>"
      ]
     },
     "metadata": {},
     "output_type": "display_data"
    }
   ],
   "source": [
    "predict = loaded_automl.predict(X_test)\n",
    "y_scores = predict.data[:, 0] \n",
    "\n",
    "# Расчет FPR, TPR, и пороговых значений\n",
    "fpr, tpr, thresholds = roc_curve(y_val, y_scores)\n",
    "\n",
    "# Расчет площади под кривой (AUC)\n",
    "roc_auc = auc(fpr, tpr)\n",
    "\n",
    "# Построение графика ROC-кривой\n",
    "plt.figure(figsize=(8, 6))\n",
    "plt.plot(fpr, tpr, color='darkorange', lw=2, label='ROC curve (area = %0.2f)' % roc_auc)\n",
    "plt.plot([0, 1], [0, 1], color='navy', lw=2, linestyle='--')\n",
    "plt.xlim([0.0, 1.0])\n",
    "plt.ylim([0.0, 1.05])\n",
    "plt.xlabel('False Positive Rate')\n",
    "plt.ylabel('True Positive Rate')\n",
    "plt.title('ROC-AUC AutoML')\n",
    "plt.legend(loc=\"lower right\")\n",
    "plt.show()"
   ]
  },
  {
   "cell_type": "code",
   "execution_count": 12,
   "metadata": {},
   "outputs": [
    {
     "data": {
      "text/plain": [
       "array([[0.07226277],\n",
       "       [0.00790166],\n",
       "       [0.01789437],\n",
       "       ...,\n",
       "       [0.0119266 ],\n",
       "       [0.08247656],\n",
       "       [0.01393619]], dtype=float32)"
      ]
     },
     "execution_count": 12,
     "metadata": {},
     "output_type": "execute_result"
    }
   ],
   "source": [
    "predict"
   ]
  },
  {
   "cell_type": "code",
   "execution_count": null,
   "metadata": {},
   "outputs": [],
   "source": []
  }
 ],
 "metadata": {
  "kernelspec": {
   "display_name": "venv",
   "language": "python",
   "name": "python3"
  },
  "language_info": {
   "codemirror_mode": {
    "name": "ipython",
    "version": 3
   },
   "file_extension": ".py",
   "mimetype": "text/x-python",
   "name": "python",
   "nbconvert_exporter": "python",
   "pygments_lexer": "ipython3",
   "version": "3.11.8"
  }
 },
 "nbformat": 4,
 "nbformat_minor": 2
}
